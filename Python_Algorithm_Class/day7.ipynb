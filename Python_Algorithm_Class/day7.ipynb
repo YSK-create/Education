{
 "cells": [
  {
   "cell_type": "code",
   "execution_count": 12,
   "metadata": {},
   "outputs": [],
   "source": [
    "from IPython.core.interactiveshell import InteractiveShell\n",
    "InteractiveShell.ast_node_interactivity = \"all\""
   ]
  },
  {
   "cell_type": "markdown",
   "metadata": {},
   "source": [
    "## 6. 파이썬 클래스\n",
    "### 객체지향 프로그래밍\n",
    "- 데이터와 데이터를 처리하는 함수를 묶어서 객체(데이터와 사용법)를 만들고 이를 사용\n",
    "- 절차지향 프로그래밍: 함수를 순차적으로 호출해서 데이터를 조작 / 데이터와 데이터를 처리하는 함수가 분리\n",
    "- 특징\n",
    "    - 캡슐화: 객체가 형성되면 이를 캡슐로 싸서 외부의 접근으로부터 보호\n",
    "    - 다형성: 프로그램 언어의 각 요소들이 다양한 자료형에 속하는 것이 허가되는 성질을 가리킨다. 즉 연산자나 함수가 어떤 객체를 다루느냐에 따라서 달라질 수 있다.\n",
    "    - 상속: 자식 객체인 경우 명시하지 않아도 부모의 성질을 가진다.\n",
    "- 객체지향 프로그래밍의 장점\n",
    "    - 소프트웨어의 재사용을 통해 생산성 향상\n",
    "    - 복잡하고 큰 규모의 소프트웨어 작성, 관리, 유지보수 용이\n",
    "\n",
    "### class\n",
    "- 실세계의 것을 modeling하여, 그 안의 데이터(속성-attribute)와 함수(동작-method)를 갖는 데이터 타입\n",
    "\n",
    "### object\n",
    "- class로 찍어낸(instance화한) 객체(instance) (ex: 정수(int), 실수(float), 문자열(str), 리스트(list), 튜플(tuple)) "
   ]
  },
  {
   "cell_type": "code",
   "execution_count": 18,
   "metadata": {},
   "outputs": [
    {
     "data": {
      "text/plain": [
       "<__main__.BusinessCard at 0x1587b0>"
      ]
     },
     "execution_count": 18,
     "metadata": {},
     "output_type": "execute_result"
    },
    {
     "data": {
      "text/plain": [
       "'Kim'"
      ]
     },
     "execution_count": 18,
     "metadata": {},
     "output_type": "execute_result"
    },
    {
     "data": {
      "text/plain": [
       "'kim@n.com'"
      ]
     },
     "execution_count": 18,
     "metadata": {},
     "output_type": "execute_result"
    },
    {
     "data": {
      "text/plain": [
       "'Seoul'"
      ]
     },
     "execution_count": 18,
     "metadata": {},
     "output_type": "execute_result"
    },
    {
     "data": {
      "text/plain": [
       "'Lee'"
      ]
     },
     "execution_count": 18,
     "metadata": {},
     "output_type": "execute_result"
    },
    {
     "data": {
      "text/plain": [
       "'lee@n.com'"
      ]
     },
     "execution_count": 18,
     "metadata": {},
     "output_type": "execute_result"
    },
    {
     "data": {
      "text/plain": [
       "'Kyunggi'"
      ]
     },
     "execution_count": 18,
     "metadata": {},
     "output_type": "execute_result"
    },
    {
     "name": "stdout",
     "output_type": "stream",
     "text": [
      "--------------------\n",
      "Name:  kim\n",
      "E-mail:  kim@n.com\n",
      "Address:  Seoul\n",
      "--------------------\n"
     ]
    }
   ],
   "source": [
    "# class 정의하기\n",
    "class BusinessCard: # class 만들기\n",
    "    def set_info(self,name,email,addr): # method(내부 함수), attribute(내부 변수) 생성\n",
    "        self.name = name # 인스턴스 변수\n",
    "        self.email = email\n",
    "        self.addr = addr\n",
    "        \n",
    "member1 = BusinessCard() # object 만들기: instance화\n",
    "member1\n",
    "member1.set_info('Kim','kim@n.com','Seoul') # instance method에 접근\n",
    "member1.name # instance variable에 접근\n",
    "member1.email\n",
    "member1.addr\n",
    "member2 = BusinessCard()\n",
    "member2.set_info('Lee','lee@n.com','Kyunggi')\n",
    "member2.name\n",
    "member2.email\n",
    "member2.addr"
   ]
  },
  {
   "cell_type": "code",
   "execution_count": 1,
   "metadata": {},
   "outputs": [
    {
     "name": "stdout",
     "output_type": "stream",
     "text": [
      "--------------------\n",
      "Name:  kim\n",
      "E-mail:  kim@n.com\n",
      "Address:  Seoul\n",
      "--------------------\n"
     ]
    }
   ],
   "source": [
    "## class에 method 추가\n",
    "class BusinessCard: # class 만들기, 내부 변수: self\n",
    "    def set_info(self,name,email,addr): # method1(내부 함수1: set_info) 생성\n",
    "        self.name = name\n",
    "        self.email = email\n",
    "        self.addr = addr\n",
    "    def print_info(self): # method2(내부 함수2: print_info) 생성\n",
    "        print('-'*20)\n",
    "        print('Name: ',self.name)\n",
    "        print('E-mail: ',self.email)\n",
    "        print('Address: ',self.addr)\n",
    "        print('-'*20)\n",
    "member1 = BusinessCard() # object 만들기: instance화\n",
    "member1.set_info('kim','kim@n.com','Seoul') # instance method1에 접근\n",
    "member1.print_info() # instance method2에 접근"
   ]
  },
  {
   "cell_type": "markdown",
   "metadata": {},
   "source": [
    "- __init__(self) (class 생성자): 생성자, class instance가 생성과 동시에 자동으로 호출, 데이터 초기화 등을 정의\n",
    "- self: 객체 자신, instance method는 항상 첫번째 인자로 가져야함\n",
    "- 위에서는 1) a = BusinessCard(): 인스턴스 a 생성 2) a.set_info(정보): 초기값을 저장\n",
    "- BUT 이번에는 a = BusinessCard(정보): 인스턴스 a 생성하자마자 인자 3개를 초기값으로 입력하고 저장\n"
   ]
  },
  {
   "cell_type": "code",
   "execution_count": 18,
   "metadata": {},
   "outputs": [
    {
     "data": {
      "text/plain": [
       "'Yoon'"
      ]
     },
     "execution_count": 18,
     "metadata": {},
     "output_type": "execute_result"
    },
    {
     "data": {
      "text/plain": [
       "'ygoongood12@gmail.com'"
      ]
     },
     "execution_count": 18,
     "metadata": {},
     "output_type": "execute_result"
    },
    {
     "data": {
      "text/plain": [
       "'Suseong'"
      ]
     },
     "execution_count": 18,
     "metadata": {},
     "output_type": "execute_result"
    },
    {
     "name": "stdout",
     "output_type": "stream",
     "text": [
      "--------------------\n",
      "Name:  Yoon\n",
      "E-mail:  ygoongood12@gmail.com\n",
      "Address:  Suseong\n",
      "--------------------\n",
      "function 2\n"
     ]
    },
    {
     "data": {
      "text/plain": [
       "2.0"
      ]
     },
     "execution_count": 18,
     "metadata": {},
     "output_type": "execute_result"
    }
   ],
   "source": [
    "class BusinessCard:\n",
    "    # self: 생성되는 instance(object), 나중에 생성할 때 전달해야 하는 인자 3개(name,email,addr)\n",
    "    def __init__(self,name,email,addr): # 인자 4개지만 self는 instance\n",
    "        self.name = name\n",
    "        self.email = email\n",
    "        self.addr = addr\n",
    "    \n",
    "    def print_info(self): # method(내부 함수: print_info) 생성\n",
    "        print('-'*20)\n",
    "        print('Name: ',self.name)\n",
    "        print('E-mail: ',self.email)\n",
    "        print('Address: ',self.addr)\n",
    "        print('-'*20)\n",
    "member3 = BusinessCard('Yoon','ygoongood12@gmail.com','Suseong') # 생성할때 인자 3개\n",
    "member3.name\n",
    "member3.email\n",
    "member3.addr\n",
    "member3.print_info()"
   ]
  },
  {
   "cell_type": "markdown",
   "metadata": {},
   "source": [
    "### self 이해\n",
    "- class를 이용하여 instance를 생성하게 되면, 어떤 id값에 instance와 instance method를 저장하게 된다.\n",
    "- 이 때 method를 호출하는 방법\n",
    "    - instance.method(): instance 레벨로 호출하고, instance 객체에만 영향을 줌\n",
    "    - class.method(instance): class 레벨에서 호출하고, class member 변수만 변경"
   ]
  },
  {
   "cell_type": "code",
   "execution_count": 13,
   "metadata": {},
   "outputs": [
    {
     "name": "stdout",
     "output_type": "stream",
     "text": [
      "6148624\n",
      "function 2\n"
     ]
    },
    {
     "data": {
      "text/plain": [
       "6148624"
      ]
     },
     "execution_count": 13,
     "metadata": {},
     "output_type": "execute_result"
    },
    {
     "data": {
      "text/plain": [
       "93505360"
      ]
     },
     "execution_count": 13,
     "metadata": {},
     "output_type": "execute_result"
    },
    {
     "name": "stdout",
     "output_type": "stream",
     "text": [
      "93505360\n",
      "function 2\n"
     ]
    }
   ],
   "source": [
    "class Foo:\n",
    "    def func1(): # 첫번째 인자 self 아님 -> class 정의 시 에러 발생 안됨\n",
    "        print('function 1')\n",
    "    def func2(self):\n",
    "        print(id(self))\n",
    "        print('function 2')\n",
    "f=Foo() # instance f 생성\n",
    "f.func2() # func2의 method 인자가 self 뿐이므로 인자를 전달할 필요없다.\n",
    "# f.func1(): func1() takes 0 positional arguments but 1 was given\n",
    "# 첫 번째 인자로 항상 instance가 전달되기 때문이다.\n",
    "id(f)\n",
    "f2=Foo()\n",
    "id(f2)\n",
    "f2.func2()"
   ]
  },
  {
   "cell_type": "markdown",
   "metadata": {},
   "source": [
    "### class namespace\n",
    "- class 정의되면 독립적인 namespace 생성\n",
    "- class variables and methods: class namespace안에서 딕셔너리 타입으로 저장됨\n",
    "- instance를 생성하면, 각자 독립적인 namespace를 생성한다."
   ]
  },
  {
   "cell_type": "code",
   "execution_count": 4,
   "metadata": {},
   "outputs": [
    {
     "data": {
      "text/plain": [
       "mappingproxy({'__module__': '__main__',\n",
       "              'market': 'kospi',\n",
       "              '__dict__': <attribute '__dict__' of 'Stock' objects>,\n",
       "              '__weakref__': <attribute '__weakref__' of 'Stock' objects>,\n",
       "              '__doc__': None})"
      ]
     },
     "execution_count": 4,
     "metadata": {},
     "output_type": "execute_result"
    },
    {
     "data": {
      "text/plain": [
       "'kospi'"
      ]
     },
     "execution_count": 4,
     "metadata": {},
     "output_type": "execute_result"
    },
    {
     "data": {
      "text/plain": [
       "99897072"
      ]
     },
     "execution_count": 4,
     "metadata": {},
     "output_type": "execute_result"
    },
    {
     "data": {
      "text/plain": [
       "99897168"
      ]
     },
     "execution_count": 4,
     "metadata": {},
     "output_type": "execute_result"
    }
   ],
   "source": [
    "class Stock:\n",
    "    market = 'kospi'\n",
    "\n",
    "Stock.__dict__\n",
    "\n",
    "Stock.market # class variable: class로 접근\n",
    "\n",
    "s1 = Stock() # instance 생성\n",
    "s2 = Stock()\n",
    "id(s1) # instance별 namespace\n",
    "id(s2)"
   ]
  },
  {
   "cell_type": "code",
   "execution_count": 6,
   "metadata": {},
   "outputs": [
    {
     "data": {
      "text/plain": [
       "['In',\n",
       " 'InteractiveShell',\n",
       " 'Out',\n",
       " 'Stock',\n",
       " '_',\n",
       " '_1',\n",
       " '_2',\n",
       " '_4',\n",
       " '_5',\n",
       " '__',\n",
       " '___',\n",
       " '__builtin__',\n",
       " '__builtins__',\n",
       " '__doc__',\n",
       " '__loader__',\n",
       " '__name__',\n",
       " '__package__',\n",
       " '__spec__',\n",
       " '_dh',\n",
       " '_i',\n",
       " '_i1',\n",
       " '_i2',\n",
       " '_i3',\n",
       " '_i4',\n",
       " '_i5',\n",
       " '_i6',\n",
       " '_ih',\n",
       " '_ii',\n",
       " '_iii',\n",
       " '_oh',\n",
       " 'exit',\n",
       " 'get_ipython',\n",
       " 'quit',\n",
       " 's1',\n",
       " 's2']"
      ]
     },
     "execution_count": 6,
     "metadata": {},
     "output_type": "execute_result"
    },
    {
     "data": {
      "text/plain": [
       "{}"
      ]
     },
     "execution_count": 6,
     "metadata": {},
     "output_type": "execute_result"
    },
    {
     "data": {
      "text/plain": [
       "{}"
      ]
     },
     "execution_count": 6,
     "metadata": {},
     "output_type": "execute_result"
    }
   ],
   "source": [
    "#s1, s2가 namespece에 있는지 확인\n",
    "dir()\n",
    "#s1, s2 각각의 namespace 확인\n",
    "s1.__dict__\n",
    "s2.__dict__"
   ]
  },
  {
   "cell_type": "code",
   "execution_count": 9,
   "metadata": {},
   "outputs": [
    {
     "data": {
      "text/plain": [
       "{'market': 'kosdaq'}"
      ]
     },
     "execution_count": 9,
     "metadata": {},
     "output_type": "execute_result"
    },
    {
     "data": {
      "text/plain": [
       "'kospi'"
      ]
     },
     "execution_count": 9,
     "metadata": {},
     "output_type": "execute_result"
    }
   ],
   "source": [
    "s1.market = 'kosdaq'\n",
    "s1.__dict__\n",
    "s2.market # s2라는 instance에 아무값도 없다? -> class의 namespace로 이동"
   ]
  },
  {
   "cell_type": "markdown",
   "metadata": {},
   "source": [
    "### class variable과 instance variable\n",
    "- class variable: class 내부에 선언된 변수(class의 namespace에 존재)\n",
    "- instance varible: self가 붙어 있는 변수(instance의 namespace에 존재)"
   ]
  },
  {
   "cell_type": "code",
   "execution_count": 65,
   "metadata": {},
   "outputs": [
    {
     "data": {
      "text/plain": [
       "'kim'"
      ]
     },
     "execution_count": 65,
     "metadata": {},
     "output_type": "execute_result"
    },
    {
     "data": {
      "text/plain": [
       "'lee'"
      ]
     },
     "execution_count": 65,
     "metadata": {},
     "output_type": "execute_result"
    },
    {
     "data": {
      "text/plain": [
       "2"
      ]
     },
     "execution_count": 65,
     "metadata": {},
     "output_type": "execute_result"
    },
    {
     "data": {
      "text/plain": [
       "2"
      ]
     },
     "execution_count": 65,
     "metadata": {},
     "output_type": "execute_result"
    },
    {
     "data": {
      "text/plain": [
       "2"
      ]
     },
     "execution_count": 65,
     "metadata": {},
     "output_type": "execute_result"
    }
   ],
   "source": [
    "class Account:\n",
    "    num_accounts = 0\n",
    "    def __init__(self,name):\n",
    "        self.name = name\n",
    "        Account.num_accounts += 1\n",
    "\n",
    "        \n",
    "kim = Account('kim') # instance 생성\n",
    "lee = Account('lee')\n",
    "\n",
    "kim.name\n",
    "lee.name\n",
    "\n",
    "kim.num_accounts # kim의 namespace에 numaccounts 찾았지만 없어서 class의 namespace에서 찾음\n",
    "lee.num_accounts # 인스턴스 간에 공유해야하는 값을 바인딩한다.\n",
    "Account.num_accounts"
   ]
  },
  {
   "cell_type": "markdown",
   "metadata": {},
   "source": [
    "### 상속\n",
    "- Parent class의 성질을 Child class가 이어받는 것\n",
    "- 상속 받는다: 부모의 것을 내 것으로 + method를 더 구현하면 plus alpha\n",
    "- 상속 받은 method나 변수를 재정의도 가능: override"
   ]
  },
  {
   "cell_type": "code",
   "execution_count": 67,
   "metadata": {},
   "outputs": [
    {
     "name": "stdout",
     "output_type": "stream",
     "text": [
      "Sing a song\n"
     ]
    }
   ],
   "source": [
    "class Parent: # 부모 class 정의\n",
    "    def can_sing(self):\n",
    "        print('Sing a song')\n",
    "\n",
    "father = Parent() # instance 생성\n",
    "father.can_sing()"
   ]
  },
  {
   "cell_type": "code",
   "execution_count": 69,
   "metadata": {},
   "outputs": [
    {
     "name": "stdout",
     "output_type": "stream",
     "text": [
      "Sing a song\n"
     ]
    }
   ],
   "source": [
    "# Parent class로부터 상속받은 자식 class\n",
    "class LuckyChild(Parent):\n",
    "    pass\n",
    "\n",
    "child1 = LuckyChild()\n",
    "child1.can_sing() # 정의 안해도 부모 class의 성질(method)을 이어받음"
   ]
  },
  {
   "cell_type": "code",
   "execution_count": 74,
   "metadata": {},
   "outputs": [],
   "source": [
    "class UnLuckyChild: # 상속받은 class가 안 나와있다.\n",
    "    pass\n",
    "\n",
    "child2 = UnLuckyChild()\n",
    "# child2.can_sing(): error -> 상속받은 class가 없다 + 자체에도 can_sing()이 없다."
   ]
  },
  {
   "cell_type": "code",
   "execution_count": 72,
   "metadata": {},
   "outputs": [
    {
     "name": "stdout",
     "output_type": "stream",
     "text": [
      "Sing a song\n",
      "Shuffle Dance\n"
     ]
    }
   ],
   "source": [
    "class LuckyChild2(Parent):\n",
    "    def can_dance(self): # method 추가\n",
    "        print('Shuffle Dance')\n",
    "        \n",
    "child2 = LuckyChild2()\n",
    "child2.can_sing()\n",
    "child2.can_dance()"
   ]
  },
  {
   "cell_type": "code",
   "execution_count": 76,
   "metadata": {},
   "outputs": [
    {
     "name": "stdout",
     "output_type": "stream",
     "text": [
      "원점에서 p1까지 거리: 25\n",
      "p1 x좌표: 4\n",
      "p1 x좌표: 3\n",
      "p1 x좌표: (4,3)\n",
      "p2 x좌표: (2,1)\n",
      "p3 x좌표: (6,4)\n",
      "p4 x좌표: (2,3)\n",
      "p5 x좌표: (12,9)\n",
      "(2,3)\n"
     ]
    }
   ],
   "source": [
    "import math\n",
    "# class 실습 1: Point\n",
    "class Point:\n",
    "    def __init__(self,x,y): # instance 초기 상태\n",
    "        self.x = x\n",
    "        self.y = y\n",
    "\n",
    "    def __add__(self,pt): # 부모의 class에서 정의했던 +를 Point에서의 +으로 재정의(override), 밖에서 +로 사용.\n",
    "        new_x = self.x + pt.x\n",
    "        new_y = self.y + pt.y\n",
    "        return Point(new_x,new_y)\n",
    "    \n",
    "    def __sub__(self,pt): # 부모의 class에서 정의했던 -를 Point에서의 -으로 재정의(override), -로 사용함.\n",
    "        new_x = self.x - pt.x\n",
    "        new_y = self.x - pt.y\n",
    "        return Point(new_x,new_y)\n",
    "    \n",
    "    def __mul__(self,factor): # 부모의 class에서 정의했던 *를 Point에서의 *으로 재정의(override), *로 사용함.\n",
    "        return Point(factor*self.x,factor*self.y)\n",
    "    \n",
    "    def __len__(self): # # 부모의 class에서 정의했던 len(a)를 Point에서의 len(a)으로 재정의(override), len(a)로 사용함.\n",
    "        return (self.x**2+self.y**2)\n",
    "    \n",
    "    def __getitem__(self,index): # # 부모의 class에서 정의했던 a[i]를 Point에서의 a[i]으로 재정의(override), a[i]로 사용함.\n",
    "        if index==0:\n",
    "            return self.x\n",
    "        elif index==1:\n",
    "            return self.y\n",
    "        else:\n",
    "            return -1\n",
    "        \n",
    "    def __str__(self): # 출력시 나오는 형태, (x,y)라는 모양으로 return하겠다.\n",
    "        return '({},{})'.format(self.x,self.y)\n",
    "    \n",
    "p1=Point(4,3)\n",
    "p2=Point(2,1)\n",
    "p7=p1.__sub__(p2) # 좌표를 Point() class로 정의하고, 다른 class에서 하던대로 활용할 수는 있다.\n",
    "p3=p1+p2\n",
    "p4=p1-p2\n",
    "p5=p1*3 # 3*p1하면 error\n",
    "\n",
    "print('원점에서 p1까지 거리:',len(p1)) # len()은 정수만을 결과로 가지므로 루트 씌우고 싶으면 abs로 하던지\n",
    "\n",
    "print('p1 x좌표:',p1[0])\n",
    "print('p1 x좌표:',p1[1])\n",
    "print('p1 x좌표:',p1)\n",
    "print('p2 x좌표:',p2)\n",
    "print('p3 x좌표:',p3)\n",
    "print('p4 x좌표:',p4)\n",
    "print('p5 x좌표:',p5)\n",
    "print(p7)"
   ]
  },
  {
   "cell_type": "code",
   "execution_count": 77,
   "metadata": {},
   "outputs": [
    {
     "name": "stdout",
     "output_type": "stream",
     "text": [
      "복소수 a: 4 - 3i\n",
      "복소수 b: -12 + 5i\n",
      "복소수 a+b: -8 + 2i\n",
      "복소수 a-b: -8 + 2i\n",
      "복소수 a*b: -33 + 56i\n",
      "복소수 a와 b가 같은가? False\n",
      "복소수 a와 b가 다른가? True\n",
      "복소수 a 크기 5.0\n",
      "복소수 b 크기 13.0\n",
      "복소수 a 크기의 제곱 25\n",
      "복소수 b 크기의 제곱 169\n"
     ]
    }
   ],
   "source": [
    "# class 실습2: ComplexNumber\n",
    "class ComplexNumber:\n",
    "    def __init__(self,real,img): # instance 초기 상태\n",
    "        self.real = real\n",
    "        self.img = img\n",
    "        \n",
    "    def __str__(self): # instance 출력시 나오는 형태, a+bi로 return\n",
    "        if self.img>0:\n",
    "            return '{} + {}i'.format(self.real,abs(self.img))\n",
    "        elif self.img==0:\n",
    "            return '{}'.format(self.real)\n",
    "        else:\n",
    "            return '{} - {}i'.format(self.real,abs(self.img))\n",
    "        \n",
    "    def __add__(self,cn): # ComplexNumber에서의 +를 정의, 밖에서 +로 사용\n",
    "        return ComplexNumber(self.real+cn.real,self.img+cn.img)\n",
    "    \n",
    "    def __sub__(self,cn): # ComplexNumber에서의 -를 정의, 밖에서 -로 사용\n",
    "        return ComplexNumber(self.real+cn.real,self.img+cn.img)\n",
    "    \n",
    "    def __mul__(self,x): # ComplexNumber에서의 *를 정의, 밖에서 *로 사용\n",
    "        if type(x)!=ComplexNumber:\n",
    "            return ComplexNumber(self.real*x,self.img*x)\n",
    "        else:\n",
    "            return ComplexNumber(self.real*x.real-self.img*x.img,self.real*x.img+self.img*x.real)\n",
    "        \n",
    "    def __eq__(self,cn): # ComplexNumber에서의 ==를 정의, 밖에서 ==로 사용\n",
    "        return self.real == cn.real and self.img == cn.img\n",
    "    \n",
    "    def __ne__(self,cn): # ComplexNumber에서의 !=를 정의, 밖에서 !=로 사용\n",
    "        return not(self.real == cn.real and self.img == cn.img)\n",
    "    \n",
    "    def __abs__(self): # ComplexNumber에서의 abs(a)를 정의, 밖에서 abs(a)로 사용\n",
    "        return math.sqrt(self.real**2+self.img**2)\n",
    "    \n",
    "    def __len__(self): # ComplexNumber에서의 len(a)를 정의, 밖에서 len(a)로 사용\n",
    "        return self.real**2+self.img**2\n",
    "\n",
    "a = ComplexNumber(4,-3)\n",
    "b = ComplexNumber(-12,5)\n",
    "\n",
    "print('복소수 a:',a)\n",
    "print('복소수 b:',b)\n",
    "\n",
    "print('복소수 a+b:',a+b)\n",
    "print('복소수 a-b:',a-b)\n",
    "print('복소수 a*b:',a*b)\n",
    "\n",
    "print('복소수 a와 b가 같은가?',a==b)\n",
    "print('복소수 a와 b가 다른가?',a!=b)\n",
    "\n",
    "print('복소수 a 크기',abs(a))\n",
    "print('복소수 b 크기',abs(b))\n",
    "print('복소수 a 크기의 제곱',len(a))\n",
    "print('복소수 b 크기의 제곱',len(b))"
   ]
  },
  {
   "cell_type": "code",
   "execution_count": 78,
   "metadata": {},
   "outputs": [],
   "source": [
    "# class 실습3: Person -> Student/Staff/Resercher/Professors\n",
    "class Person:\n",
    "    def __init__(self,name,email):\n",
    "        self.name=name\n",
    "        self.email=email\n",
    "    \n",
    "    def speak(self,language):\n",
    "        print('{}의 사용 언어는 {}입니다.'.format(self.name,language))\n",
    "        \n",
    "    def displayInfo(self):\n",
    "        print('{}의 이메일은 {}입니다.'.format(self.name,self.email))\n",
    "\n",
    "class Student(Person): # Person class에서 상속\n",
    "    def __init__(self,name,email,num,major):\n",
    "        self.name=name\n",
    "        self.email=email\n",
    "        self.num=num\n",
    "        self.major=major\n",
    "    \n",
    "    def stuNum(self):\n",
    "        print('{}: {}'.format(self.name,self.num))\n",
    "    \n",
    "    def study(self):\n",
    "        print('{}는 {}를 전공으로 하고 있습니다.'.format(self.name,self.major))\n",
    "        \n",
    "class Staff(Person): # Person class에서 상속\n",
    "    def __init__(self,name,email,num,task):\n",
    "        self.name=name\n",
    "        self.email=email\n",
    "        self.num=num\n",
    "        self.task=task\n",
    "    \n",
    "    def staffNum(self):\n",
    "        print('{}: {}'.format(self.name,self.num))\n",
    "        \n",
    "    def work(self):\n",
    "        print('{}는 한양대학교에서 {} 업무를 맡고 있습니다.'.format(self.name,self.task))\n",
    "        \n",
    "class Researcher(Person): # Person class에서 상속\n",
    "    def __init__(self,name,email,num,res):\n",
    "        self.name=name\n",
    "        self.email=email\n",
    "        self.num=num\n",
    "        self.res=res\n",
    "    \n",
    "    def rNum(self):\n",
    "        print('{}: {}'.format(self.name,self.num))\n",
    "        \n",
    "    def research(self):\n",
    "        print('{}는 한양대학교에서 {}를 연구하고 있습니다.'.format(self.name,self.res))\n",
    "        \n",
    "class Professor(Researcher): # Researcher class에서 상속\n",
    "    def __init__(self,name,email,num,res,tea):\n",
    "        self.name=name\n",
    "        self.email=email\n",
    "        self.num=num\n",
    "        self.res=res\n",
    "        self.tea=tea\n",
    "    \n",
    "    def pNum(self):\n",
    "        print('{}: {}'.format(self.name,self.num))\n",
    "\n",
    "    def teach(self):\n",
    "        print('{}는 한양대학교에서 {} 과목을 가르치고 있습니다.'.format(self.name,self.tea))"
   ]
  },
  {
   "cell_type": "code",
   "execution_count": 7,
   "metadata": {},
   "outputs": [
    {
     "name": "stdout",
     "output_type": "stream",
     "text": [
      "YSK의 사용 언어는 한국어입니다.\n",
      "YSK의 이메일은 ygoongood@gmail.com입니다.\n",
      "YSK: 2014012188\n",
      "YSK는 Industrial Engineering를 전공으로 하고 있습니다.\n"
     ]
    }
   ],
   "source": [
    "man1=Student('YSK','ygoongood@gmail.com','2014012188','Industrial Engineering')\n",
    "man1.speak('한국어')\n",
    "man1.displayInfo()\n",
    "man1.stuNum()\n",
    "man1.study()"
   ]
  },
  {
   "cell_type": "code",
   "execution_count": 8,
   "metadata": {},
   "outputs": [
    {
     "name": "stdout",
     "output_type": "stream",
     "text": [
      "Steve의 사용 언어는 영어입니다.\n",
      "Steve의 이메일은 stevejobs777@apple.com입니다.\n",
      "Steve: 110844\n",
      "Steve는 한양대학교에서 도서관 관리 업무를 맡고 있습니다.\n"
     ]
    }
   ],
   "source": [
    "man2=Staff('Steve','stevejobs777@apple.com','110844','도서관 관리')\n",
    "man2.speak('영어')\n",
    "man2.displayInfo()\n",
    "man2.staffNum()\n",
    "man2.work()"
   ]
  },
  {
   "cell_type": "code",
   "execution_count": 9,
   "metadata": {},
   "outputs": [
    {
     "name": "stdout",
     "output_type": "stream",
     "text": [
      "BMM의 사용 언어는 일본어입니다.\n",
      "BMM의 이메일은 DGM@gmail.com입니다.\n",
      "BMM: 4474446\n",
      "BMM는 한양대학교에서 신뢰성 및 보전공학를 연구하고 있습니다.\n"
     ]
    }
   ],
   "source": [
    "man3=Researcher('BMM','DGM@gmail.com','4474446','신뢰성 및 보전공학')\n",
    "man3.speak('일본어')\n",
    "man3.displayInfo()\n",
    "man3.rNum()\n",
    "man3.research()"
   ]
  },
  {
   "cell_type": "code",
   "execution_count": 10,
   "metadata": {},
   "outputs": [
    {
     "name": "stdout",
     "output_type": "stream",
     "text": [
      "SJB의 사용 언어는 아랍어입니다.\n",
      "SJB의 이메일은 psm7676@hanyang.ac.kr입니다.\n",
      "SJB: 1771155477\n",
      "SJB는 한양대학교에서 빅데이터를 연구하고 있습니다.\n",
      "SJB는 한양대학교에서 응용통계학 과목을 가르치고 있습니다.\n"
     ]
    }
   ],
   "source": [
    "man4=Professor('SJB','psm7676@hanyang.ac.kr','1771155477','빅데이터','응용통계학')\n",
    "man4.speak('아랍어')\n",
    "man4.displayInfo()\n",
    "man4.pNum()\n",
    "man4.research()\n",
    "man4.teach()"
   ]
  },
  {
   "cell_type": "markdown",
   "metadata": {},
   "source": [
    "## 7. 파일 다루기\n",
    "### 파일 읽기\n",
    "- 위치 정보: 상대 경로(../:부모,./자신), 절대 경로\n",
    "- open이라는 내장 함수를 사용한다.(r: 읽기, w: 쓰기(기존 file 삭제), a: 추가)\n",
    "- close()로 닫아줘야함\n",
    "- with~ as~를 하면 close()를 안해도 된다."
   ]
  },
  {
   "cell_type": "code",
   "execution_count": 15,
   "metadata": {},
   "outputs": [
    {
     "data": {
      "text/plain": [
       "['NAVER\\n', '현대차\\n', '기아차\\n']"
      ]
     },
     "execution_count": 15,
     "metadata": {},
     "output_type": "execute_result"
    }
   ],
   "source": [
    "# 주피터 내부 주소로 해야 함\n",
    "f = open('../buy_list.txt', 'rt') # 상대 경로\n",
    "lines = f.readlines() # 파일 읽고, 각 라인을 list에 넣은 후 list를 return\n",
    "lines # txt 저장할 때, ANSI로 저장해야 'cp949' error가 나질 않는다."
   ]
  },
  {
   "cell_type": "code",
   "execution_count": 9,
   "metadata": {},
   "outputs": [
    {
     "name": "stdout",
     "output_type": "stream",
     "text": [
      "NAVER\n",
      "현대차\n",
      "기아차\n"
     ]
    }
   ],
   "source": [
    "for line in lines:\n",
    "    print(line,end='') # print(line): 한 줄씩 더 띄워서 나온다."
   ]
  },
  {
   "cell_type": "code",
   "execution_count": 10,
   "metadata": {},
   "outputs": [
    {
     "name": "stdout",
     "output_type": "stream",
     "text": [
      "NAVER\n",
      "현대차\n",
      "기아차\n"
     ]
    }
   ],
   "source": [
    "for line in lines:\n",
    "    nline = line.split('\\n')[0] # 똑같이 하는 방법\n",
    "    print(nline)\n",
    "f.close()"
   ]
  },
  {
   "cell_type": "code",
   "execution_count": 17,
   "metadata": {},
   "outputs": [
    {
     "name": "stdout",
     "output_type": "stream",
     "text": [
      "'Beautiful is better than ugly.'\n",
      "'Explicit is better than implicit.'\n",
      "'Simple is better than complex.'\n",
      "'Complex is better than complicated.'\n",
      "'Flat is better than nested.'\n",
      "'Sparse is better than dense.'\n",
      "'Readability counts.'\n"
     ]
    },
    {
     "data": {
      "text/plain": [
       "<function TextIOWrapper.close()>"
      ]
     },
     "execution_count": 17,
     "metadata": {},
     "output_type": "execute_result"
    }
   ],
   "source": [
    "f = open('../zenOfPython.txt','r')\n",
    "result = f.read() # 그냥 읽어오기\n",
    "print(result)\n",
    "f.close"
   ]
  },
  {
   "cell_type": "code",
   "execution_count": 19,
   "metadata": {},
   "outputs": [
    {
     "name": "stdout",
     "output_type": "stream",
     "text": [
      "'Beautiful is better than ugly.'\n",
      "'Explicit is better than implicit.'\n",
      "'Simple is better than complex.'\n",
      "'Complex is better than complicated.'\n",
      "'Flat is better than nested.'\n",
      "'Sparse is better than dense.'\n",
      "'Readability counts.'\n"
     ]
    }
   ],
   "source": [
    "with open('../zenOfPython.txt','r') as f:\n",
    "    result = f.read()\n",
    "    print(result)"
   ]
  },
  {
   "cell_type": "code",
   "execution_count": 21,
   "metadata": {},
   "outputs": [
    {
     "name": "stdout",
     "output_type": "stream",
     "text": [
      "[\"'\", 'B', 'e', 'a', 'u', 't', 'i', 'f', 'u', 'l', ' ', 'i', 's', ' ', 'b', 'e', 't', 't', 'e', 'r', ' ', 't', 'h', 'a', 'n', ' ', 'u', 'g', 'l', 'y', '.', \"'\", '\\n', \"'\", 'E', 'x', 'p', 'l', 'i', 'c', 'i', 't', ' ', 'i', 's', ' ', 'b', 'e', 't', 't', 'e', 'r', ' ', 't', 'h', 'a', 'n', ' ', 'i', 'm', 'p', 'l', 'i', 'c', 'i', 't', '.', \"'\", '\\n', \"'\", 'S', 'i', 'm', 'p', 'l', 'e', ' ', 'i', 's', ' ', 'b', 'e', 't', 't', 'e', 'r', ' ', 't', 'h', 'a', 'n', ' ', 'c', 'o', 'm', 'p', 'l', 'e', 'x', '.', \"'\", '\\n', \"'\", 'C', 'o', 'm', 'p', 'l', 'e', 'x', ' ', 'i', 's', ' ', 'b', 'e', 't', 't', 'e', 'r', ' ', 't', 'h', 'a', 'n', ' ', 'c', 'o', 'm', 'p', 'l', 'i', 'c', 'a', 't', 'e', 'd', '.', \"'\", '\\n', \"'\", 'F', 'l', 'a', 't', ' ', 'i', 's', ' ', 'b', 'e', 't', 't', 'e', 'r', ' ', 't', 'h', 'a', 'n', ' ', 'n', 'e', 's', 't', 'e', 'd', '.', \"'\", '\\n', \"'\", 'S', 'p', 'a', 'r', 's', 'e', ' ', 'i', 's', ' ', 'b', 'e', 't', 't', 'e', 'r', ' ', 't', 'h', 'a', 'n', ' ', 'd', 'e', 'n', 's', 'e', '.', \"'\", '\\n', \"'\", 'R', 'e', 'a', 'd', 'a', 'b', 'i', 'l', 'i', 't', 'y', ' ', 'c', 'o', 'u', 'n', 't', 's', '.', \"'\"]\n"
     ]
    }
   ],
   "source": [
    "# list로 하면 분리 and 줄바꿈까지 나옴\n",
    "with open('../zenOfPython.txt','r') as f:\n",
    "    result = f.read()\n",
    "    print(list(result))"
   ]
  },
  {
   "cell_type": "code",
   "execution_count": 23,
   "metadata": {},
   "outputs": [
    {
     "name": "stdout",
     "output_type": "stream",
     "text": [
      "'Beautiful is better than ugly.'\n",
      "\n",
      "'Explicit is better than implicit.'\n",
      "\n",
      "'Simple is better than complex.'\n",
      "\n",
      "'Complex is better than complicated.'\n",
      "\n",
      "'Flat is better than nested.'\n",
      "\n",
      "'Sparse is better than dense.'\n",
      "\n",
      "'Readability counts.'\n",
      "'Beautiful is better than ugly.'\n",
      "'Explicit is better than implicit.'\n",
      "'Simple is better than complex.'\n",
      "'Complex is better than complicated.'\n",
      "'Flat is better than nested.'\n",
      "'Sparse is better than dense.'\n",
      "'Readability counts.'\n"
     ]
    }
   ],
   "source": [
    "with open('../zenOfPython.txt','r') as f:\n",
    "    for result in f:\n",
    "        print(result) # 기본적으로 띄어서 나오므로 한 줄 더 띄워짐\n",
    "        \n",
    "with open('../zenOfPython.txt','r') as f:\n",
    "    for result in f:\n",
    "        print(result.strip()) # strip으로 \\n 제거: string.strip() 기능 다시 기억"
   ]
  },
  {
   "cell_type": "code",
   "execution_count": 29,
   "metadata": {},
   "outputs": [
    {
     "name": "stdout",
     "output_type": "stream",
     "text": [
      "'Beautiful is better than ugly.'\n",
      "\n",
      "'Explicit is better than implicit.'\n",
      "\n",
      "'Simple is better than complex.'\n",
      "\n",
      "'Complex is better than complicated.'\n",
      "\n",
      "'Flat is better than nested.'\n",
      "\n",
      "'Sparse is better than dense.'\n",
      "\n",
      "'Readability counts.'\n"
     ]
    }
   ],
   "source": [
    "with open('../zenOfPython.txt','r') as f:\n",
    "    result = f.readline() # 한 줄씩 읽는다, cf) f.readlines(): 읽고 + list에 저장\n",
    "    while result: # result 전부 다\n",
    "        print(result)\n",
    "        result = f.readline() # 다음 줄로 넘기기"
   ]
  },
  {
   "cell_type": "code",
   "execution_count": null,
   "metadata": {},
   "outputs": [],
   "source": [
    "with open('../zenOfPython.txt','r') as f:\n",
    "    result = f.readline()\n",
    "    while result:\n",
    "        print(result,end='') # 줄 바꿈 없앰\n",
    "        result = f.readline()"
   ]
  },
  {
   "cell_type": "code",
   "execution_count": 43,
   "metadata": {},
   "outputs": [
    {
     "name": "stdout",
     "output_type": "stream",
     "text": [
      "[90, 70, 85, 70, 100]\n",
      "Average: 83.0\n"
     ]
    }
   ],
   "source": [
    "# 파일에서 data 읽고, 평균 내기\n",
    "with open('../score.txt','r') as f:\n",
    "    score = [] # 넣을 list\n",
    "    for i in f: # 줄 단위로 끊는다.\n",
    "        score.append(int(i))\n",
    "    print(score)\n",
    "    print('Average: {}'.format(sum(score)/len(score)))"
   ]
  },
  {
   "cell_type": "markdown",
   "metadata": {},
   "source": [
    "### 파일 쓰기\n",
    "- 빈 문서 파일을 만든다.\n",
    "- 내용 기록\n",
    "- 닫는다."
   ]
  },
  {
   "cell_type": "code",
   "execution_count": 44,
   "metadata": {},
   "outputs": [
    {
     "data": {
      "text/plain": [
       "5"
      ]
     },
     "execution_count": 44,
     "metadata": {},
     "output_type": "execute_result"
    },
    {
     "data": {
      "text/plain": [
       "7"
      ]
     },
     "execution_count": 44,
     "metadata": {},
     "output_type": "execute_result"
    }
   ],
   "source": [
    "f = open('../sel_list.txt', 'wt')\n",
    "f.write('삼성전자\\n')\n",
    "f.write('SK하이닉스\\n')\n",
    "f.close()"
   ]
  },
  {
   "cell_type": "code",
   "execution_count": 47,
   "metadata": {},
   "outputs": [
    {
     "data": {
      "text/plain": [
       "30"
      ]
     },
     "execution_count": 47,
     "metadata": {},
     "output_type": "execute_result"
    },
    {
     "data": {
      "text/plain": [
       "<function TextIOWrapper.close()>"
      ]
     },
     "execution_count": 47,
     "metadata": {},
     "output_type": "execute_result"
    }
   ],
   "source": [
    "f = open('../appFile1.txt','a')\n",
    "f.write('Simple is better than complex\\n')\n",
    "f.close"
   ]
  },
  {
   "cell_type": "code",
   "execution_count": 48,
   "metadata": {},
   "outputs": [
    {
     "data": {
      "text/plain": [
       "30"
      ]
     },
     "execution_count": 48,
     "metadata": {},
     "output_type": "execute_result"
    }
   ],
   "source": [
    "with open('../appFile.txt','a') as f:\n",
    "    f.write('Simple is better than complex\\n')"
   ]
  }
 ],
 "metadata": {
  "kernelspec": {
   "display_name": "Python 3",
   "language": "python",
   "name": "python3"
  },
  "language_info": {
   "codemirror_mode": {
    "name": "ipython",
    "version": 3
   },
   "file_extension": ".py",
   "mimetype": "text/x-python",
   "name": "python",
   "nbconvert_exporter": "python",
   "pygments_lexer": "ipython3",
   "version": "3.7.4"
  }
 },
 "nbformat": 4,
 "nbformat_minor": 2
}
