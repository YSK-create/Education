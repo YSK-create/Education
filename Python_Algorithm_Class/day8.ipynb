{
 "cells": [
  {
   "cell_type": "markdown",
   "metadata": {
    "colab_type": "text",
    "id": "Ww1_BcyHe6GB"
   },
   "source": [
    "### List - mutable, Tuple - immutable\n",
    "- list의 추가: 기존의 list에 추가를 한 것\n",
    "- tuple의 추가: 새로운 공간에 1개의 요소를 추가한 tuple의 생성 (Why? immutable하므로)"
   ]
  },
  {
   "cell_type": "code",
   "execution_count": 1,
   "metadata": {
    "colab": {},
    "colab_type": "code",
    "id": "gzQpp-C0e6GF",
    "outputId": "ac7d6126-2643-4840-f359-097b9de0caba"
   },
   "outputs": [
    {
     "name": "stdout",
     "output_type": "stream",
     "text": [
      "88431312\n",
      "88431312\n",
      "88974272\n",
      "88351536\n"
     ]
    }
   ],
   "source": [
    "# list-mutable, tuple-immutable: 연습\n",
    "list1 = [1,2,3,4]\n",
    "print(id(list1))\n",
    "\n",
    "list1.append(5)\n",
    "print(id(list1)) # 기존의 list에 추가를 한 것\n",
    "\n",
    "tuple1 = (1,2,3,4)\n",
    "print(id(tuple1))\n",
    "\n",
    "tuple1 = tuple1 + (5,) # tuple은 immutable하므로, 추가된 것이 아니라 새로운 공간에 tuple이 생성된 것이다.\n",
    "print(id(tuple1))"
   ]
  },
  {
   "cell_type": "code",
   "execution_count": 0,
   "metadata": {
    "colab": {},
    "colab_type": "code",
    "id": "pBstFyoJe6GL",
    "outputId": "994786e6-4a44-41e0-f5d3-462698b8c2e5"
   },
   "outputs": [
    {
     "name": "stdout",
     "output_type": "stream",
     "text": [
      "91448984\n",
      "91448984\n",
      "88526352\n",
      "91359248\n"
     ]
    }
   ],
   "source": [
    "# 연습2\n",
    "list1 = [1,2,3,4]\n",
    "list2 = list1 # 기존의 list1 위치에 list2를 변수 선언\n",
    "list1.append(5) # 5 추가 -> list2도 똑같을 것이다.\n",
    "print(id(list1))\n",
    "print(id(list2))\n",
    "\n",
    "tuple1 = (1,2,3,4)\n",
    "tuple2 = tuple1 # 기존의 tuple1의 위치에 tuple2를 변수 선언\n",
    "tuple1 = tuple1+(5,) # tuple1에 5를 추가한 새로운 tuple을 새로운 공간에 생성 -> tuple2와 다르다.\n",
    "print(id(tuple1))\n",
    "print(id(tuple2))"
   ]
  },
  {
   "cell_type": "markdown",
   "metadata": {
    "colab_type": "text",
    "id": "uZORM443e6GP"
   },
   "source": [
    "### Shallow copy, Deep copy\n",
    "- shallow copy: 그냥 선언 or copy.copy(lst) -> lst가 저장된 곳에 지정, lst가 바뀌면 복사한 list도 바뀐다.\n",
    "- deep copy: copy.deepcopy(lst) -> lst랑 똑같은 list를 다른 곳에 저장, lst가 바뀌어도 복사한 list는 바뀌지 않는다."
   ]
  },
  {
   "cell_type": "code",
   "execution_count": 0,
   "metadata": {
    "colab": {},
    "colab_type": "code",
    "id": "I74xLQX3e6GQ",
    "outputId": "21fe5273-7fc5-436f-8bd0-b1c4575b7e25"
   },
   "outputs": [
    {
     "name": "stdout",
     "output_type": "stream",
     "text": [
      "[1, 2, 3, 4, 5] [1, 2, 3, 4, 5]\n",
      "90922600 90922600\n",
      "[1, 2, 3, 4, 5] [1, 2, 3, 4]\n",
      "91448984 91335456\n"
     ]
    }
   ],
   "source": [
    "import copy\n",
    "list1 = [[1,2,3,4],[5,6,7]]\n",
    "list2 = list1[:] # copy.copy(list1): list1이 저장된 곳에 list2를 지정\n",
    "list1[0].append(5) # list1이 바뀌면, list2도 바뀐다.\n",
    "print(list1[0],list2[0])\n",
    "print(id(list1[0]),id(list2[0]))\n",
    "\n",
    "list3 = [[1,2,3,4],[5,6,7]]\n",
    "list4 = copy.deepcopy(list3) # copy.deepcopy(list3): 현재 list3의 상태를 다른 곳에 저장 그게 list4\n",
    "list3[0].append(5) # list3가 바뀌어도, list4는 바뀌지 않는다.\n",
    "print(list3[0],list4[0])\n",
    "print(id(list3[0]),id(list4[0]))"
   ]
  },
  {
   "cell_type": "markdown",
   "metadata": {
    "colab_type": "text",
    "id": "NIwQJK4Ee6GT"
   },
   "source": [
    "### Instance method, Class method, Static method\n",
    "- instance method: instance를 통해 호출이 되는 method, 첫번째 인자로 self를 자동으로 포함. instance 변수와 같이 하나의 instance에만 한정된 데이터를 생성, 변경, 참조\n",
    "- class method: class를 통해 호출이 되는 method, 첫번째 인자로 cls가 자동으로 포함. (instance에서도 접근 가능함) 모든 instance가 공유하는 class 변수와 같은 data를 생성, 변경, 참조 -> 데이터 검사나 다른 부가 기능 등의 추가가 필요할 때 편리하다.\n",
    "- static method: 어떤 인자도 포함하지 않지만, class 내부에 존재하는 함수 (class로부터 호출, instance에서도 접근 가능), 일반 함수처럼 작용\n",
    "- class method, static method 같은 경우 사용할 때마다 데코레이터(@classmethod, @staticmethod)를 사용해야 함.\n",
    "- reference: http://schoolofweb.net/blog/posts/%ED%8C%8C%EC%9D%B4%EC%8D%AC-oop-part-4-%ED%81%B4%EB%9E%98%EC%8A%A4-%EB%A9%94%EC%86%8C%EB%93%9C%EC%99%80-%EC%8A%A4%ED%83%9C%ED%8B%B1-%EB%A9%94%EC%86%8C%EB%93%9C-class-method-and-static-method/"
   ]
  },
  {
   "cell_type": "code",
   "execution_count": 0,
   "metadata": {
    "colab": {},
    "colab_type": "code",
    "id": "r4um9kKbe6GU",
    "outputId": "97195517-bbe6-49be-8491-8167ab5bdf57"
   },
   "outputs": [
    {
     "name": "stdout",
     "output_type": "stream",
     "text": [
      "현재 \"Hansoo Kim\"의 연봉은 \"50000\"입니다.\n",
      "현재 \"Sangmoon Yang\"의 연봉은 \"60000\"입니다.\n",
      "현재 \"Hansoo Kim\"의 연봉은 \"55000\"입니다.\n",
      "현재 \"Sangmoon Yang\"의 연봉은 \"66000\"입니다.\n"
     ]
    }
   ],
   "source": [
    "class Employee(object):\n",
    "    \n",
    "    raise_amount = 1.1 # 연봉 인상률 class variable\n",
    "    \n",
    "    def __init__(self, first, last, pay):\n",
    "        self.first = first\n",
    "        self.last = last\n",
    "        self.pay = pay\n",
    "        self.email = first.lower()+'.'+last.lower()+'@hanyang.ac.kr'\n",
    "        \n",
    "    def apply_raise(self):\n",
    "        self.pay = int(self.pay*self.raise_amount)\n",
    "        \n",
    "    def full_name(self):\n",
    "        return '{} {}'.format(self.first, self.last)\n",
    "\n",
    "    def get_pay(self):\n",
    "        return '현재 \"{}\"의 연봉은 \"{}\"입니다.'.format(self.full_name(),self.pay)\n",
    "    \n",
    "emp_1 = Employee('Hansoo','Kim',50000)\n",
    "emp_2 = Employee('Sangmoon','Yang',60000)\n",
    "\n",
    "# 인상 전\n",
    "print(emp_1.get_pay())\n",
    "print(emp_2.get_pay())\n",
    "\n",
    "# 인상\n",
    "emp_1.apply_raise()\n",
    "emp_2.apply_raise()\n",
    "\n",
    "# 인상 후\n",
    "print(emp_1.get_pay())\n",
    "print(emp_2.get_pay())\n",
    "\n",
    "# 인상율 변경 시? -> class variable 변경할 수도 있다.\n",
    "# BUT 데이터 검사나 다른 부가 기능 등의 추가가 필요할 때, class method 쓰면 편리"
   ]
  },
  {
   "cell_type": "code",
   "execution_count": 0,
   "metadata": {
    "colab": {},
    "colab_type": "code",
    "id": "Gom9FZI6e6GX",
    "outputId": "26e9c69f-81fd-43a3-aeda-7c4f92ac6332"
   },
   "outputs": [
    {
     "name": "stdout",
     "output_type": "stream",
     "text": [
      "현재 \"Hansoo Kim\"의 연봉은 \"50000\"입니다.\n",
      "현재 \"Sangmoon Yang\"의 연봉은 \"60000\"입니다.\n",
      "[경고] 인상율은 \"1\"보다 작을 수 없습니다.\n",
      "[입력] 인상율을 다시 입력하여 주십시오.\n",
      "=> 1.2\n",
      "인상율 \"1.2\"가 적용 되었습니다.\n",
      "현재 \"Hansoo Kim\"의 연봉은 \"60000\"입니다.\n",
      "현재 \"Sangmoon Yang\"의 연봉은 \"72000\"입니다.\n"
     ]
    }
   ],
   "source": [
    "import sys\n",
    "\n",
    "class Employee(object):\n",
    "    \n",
    "    raise_amount = 1.1 # 연봉 인상률 class variable\n",
    "    \n",
    "    def __init__(self, first, last, pay):\n",
    "        self.first = first\n",
    "        self.last = last\n",
    "        self.pay = pay\n",
    "        self.email = first.lower()+'.'+last.lower()+'@hanyang.ac.kr'\n",
    "        \n",
    "    def apply_raise(self):\n",
    "        self.pay = int(self.pay*self.raise_amount)\n",
    "        \n",
    "    def full_name(self):\n",
    "        return '{} {}'.format(self.first, self.last)\n",
    "\n",
    "    def get_pay(self):\n",
    "        return '현재 \"{}\"의 연봉은 \"{}\"입니다.'.format(self.full_name(),self.pay)\n",
    "    \n",
    "    @classmethod # decorator\n",
    "    def change_raise_amount(cls, amount):\n",
    "        # 인상율 1보다 낮으면 재입력 요청할거임\n",
    "        while amount < 1:\n",
    "            print('[경고] 인상율은 \"1\"보다 작을 수 없습니다.')\n",
    "            amount = float(input('[입력] 인상율을 다시 입력하여 주십시오.\\n=> '))\n",
    "        cls.raise_amount = amount\n",
    "        print('인상율 \"{}\"가 적용 되었습니다.'.format(amount))\n",
    "        \n",
    "emp_1 = Employee('Hansoo','Kim',50000)\n",
    "emp_2 = Employee('Sangmoon','Yang',60000)\n",
    "\n",
    "# 인상 전\n",
    "print(emp_1.get_pay())\n",
    "print(emp_2.get_pay())\n",
    "\n",
    "# 인상율 변경: 1보다 작으면 다시 하라고 할거임\n",
    "Employee.change_raise_amount(0.9)\n",
    "\n",
    "# 연봉 인상\n",
    "emp_1.apply_raise()\n",
    "emp_2.apply_raise()\n",
    "\n",
    "# 연봉 인상 후\n",
    "print(emp_1.get_pay())\n",
    "print(emp_2.get_pay())"
   ]
  },
  {
   "cell_type": "code",
   "execution_count": 0,
   "metadata": {
    "colab": {},
    "colab_type": "code",
    "id": "Q0zs1I3re6Ga",
    "outputId": "44c82e65-d844-4809-b74a-afc725f9fd43"
   },
   "outputs": [
    {
     "name": "stdout",
     "output_type": "stream",
     "text": [
      "1994년 04월 03일생 남성입니다.\n",
      "2002년 09월 11일생 여성입니다.\n"
     ]
    }
   ],
   "source": [
    "# 주민등록번호를 인자로 받아 -> 생년월일 성별로 바꾸는 class\n",
    "class Person(object):\n",
    "    \n",
    "    def __init__(self,year,month,day,sex):\n",
    "        self.year = year\n",
    "        self.month = month\n",
    "        self.day = day\n",
    "        self.sex = sex\n",
    "        \n",
    "    def __str__(self):\n",
    "        return '{}년 {}월 {}일생 {}입니다.'.format(self.year,self.month,self.day,self.sex)\n",
    "    \n",
    "ssn_1 = '940403-1007201'\n",
    "ssn_2 = '020911-4012475'\n",
    "\n",
    "# 외부의 함수\n",
    "def ssn_changer(ssn):\n",
    "    front,back = ssn.split('-')\n",
    "    sex_num = back[0]\n",
    "    \n",
    "    month = front[2:4]\n",
    "    \n",
    "    day = front[4:6]\n",
    "    \n",
    "    if sex_num == '1' or sex_num == '2':\n",
    "        year = '19' + front[:2]\n",
    "    else:\n",
    "        year = '20' + front[:2]\n",
    "        \n",
    "    if (int(sex_num) % 2) == 0:\n",
    "        sex = '여성'\n",
    "    else:\n",
    "        sex = '남성'\n",
    "    \n",
    "    return year, month, day, sex\n",
    "\n",
    "person1 = Person(*ssn_changer(ssn_1))\n",
    "# class(*tuple): tuple을 각각의 요소로 return (method, function도 가능)\n",
    "print(person1)\n",
    "\n",
    "person2 = Person(*ssn_changer(ssn_2))\n",
    "print(person2)"
   ]
  },
  {
   "cell_type": "code",
   "execution_count": 0,
   "metadata": {
    "colab": {},
    "colab_type": "code",
    "id": "ebT8MZcve6Gd",
    "outputId": "f5d12564-d7b6-4ada-e0c9-88f7d56b4157"
   },
   "outputs": [
    {
     "name": "stdout",
     "output_type": "stream",
     "text": [
      "1994년 04월 03일생 남성입니다.\n",
      "2002년 09월 11일생 여성입니다.\n",
      "True\n",
      "True\n"
     ]
    }
   ],
   "source": [
    "# class method로 해보자. + static method: 일반 함수와 다를게 없음\n",
    "class Person(object):\n",
    "    \n",
    "    def __init__(self,year,month,day,sex):\n",
    "        self.year = year\n",
    "        self.month = month\n",
    "        self.day = day\n",
    "        self.sex = sex\n",
    "        \n",
    "    def __str__(self):\n",
    "        return '{}년 {}월 {}일생 {}입니다.'.format(self.year,self.month,self.day,self.sex)\n",
    "    \n",
    "    @classmethod\n",
    "    def ssn_changer1(cls,ssn): # ssn을 받는다.\n",
    "        front,back = ssn.split('-')\n",
    "        sex_num = back[0]\n",
    "\n",
    "        month = front[2:4]\n",
    "\n",
    "        day = front[4:6]\n",
    "\n",
    "        if sex_num == '1' or sex_num == '2':\n",
    "            year = '19' + front[:2]\n",
    "        else:\n",
    "            year = '20' + front[:2]\n",
    "\n",
    "        if (int(sex_num) % 2) == 0:\n",
    "            sex = '여성'\n",
    "        else:\n",
    "            sex = '남성'\n",
    "\n",
    "        return cls(year, month, day, sex)\n",
    "    \n",
    "    @staticmethod\n",
    "    def is_work_day(day):\n",
    "    # weekday() 함수: 날짜를 받으며, 월 -> 0, 화 -> 1, 수 -> 2, 목 -> 3, 금 -> 4, 토 -> 5, 일 -> 6\n",
    "        if day.weekday() == 5 or day.weekday() == 6:\n",
    "            return False\n",
    "        return True\n",
    "\n",
    "ssn_1 = '940403-1007201'\n",
    "ssn_2 = '020911-4012475'\n",
    "\n",
    "person_1 = Person.ssn_changer1(ssn_1)\n",
    "print(person_1)\n",
    "person_2 = Person.ssn_changer1(ssn_2)\n",
    "print(person_2)\n",
    "# 더 세련된 코드\n",
    "\n",
    "import datetime # import해야함\n",
    "\n",
    "my_date = datetime.date(2020,1,14) # 년 월일 받는 함수\n",
    "\n",
    "print(Person.is_work_day(my_date))\n",
    "print(person_1.is_work_day(my_date)) # class, instance 단위 어디에서든 불러올 수 있다."
   ]
  },
  {
   "cell_type": "code",
   "execution_count": 0,
   "metadata": {
    "colab": {},
    "colab_type": "code",
    "id": "DYMDpjrce6Gg",
    "outputId": "148a5703-3d40-4eb9-9e2a-49f49bc75206"
   },
   "outputs": [
    {
     "name": "stdout",
     "output_type": "stream",
     "text": [
      "('instance method called', <__main__.MyClass object at 0x058C79D0>)\n",
      "93092304\n",
      "('instance method called', <__main__.MyClass object at 0x058C79D0>)\n",
      "\n",
      "class methos:  ('class method called', <class '__main__.MyClass'>)\n",
      "static method:  static method called\n"
     ]
    }
   ],
   "source": [
    "class MyClass:\n",
    "    def method(self): # instance method: instance를 통해 호출이 되는 method, 첫번째 인자로 self를 자동으로 포함\n",
    "        return 'instance method called', self\n",
    "    \n",
    "    @classmethod # 데코레이터: classmethod를 정의하겠다는 뜻이다.\n",
    "    def classmethod(cls): # class method: class를 통해 호출이 되는 method, 첫번째 인자로 cls가 자동으로 포함\n",
    "        return 'class method called', cls\n",
    "    \n",
    "    @staticmethod\n",
    "    def staticmethod(): # static method: 어떤 인자도 포함하지 않지만, 클래스 내부에 존재하는 함수\n",
    "        return 'static method called'\n",
    "    \n",
    "obj = MyClass()\n",
    "print(obj.method())\n",
    "print(id(obj))\n",
    "print(MyClass.method(obj))\n",
    "print()\n",
    "print('class methos: ',obj.classmethod())\n",
    "print('static method: ',obj.staticmethod())"
   ]
  },
  {
   "cell_type": "code",
   "execution_count": 0,
   "metadata": {
    "colab": {},
    "colab_type": "code",
    "id": "SAr9qtSde6Gj",
    "outputId": "4a4f2b02-a528-41f9-a0aa-e93642702982"
   },
   "outputs": [
    {
     "name": "stdout",
     "output_type": "stream",
     "text": [
      "46\n"
     ]
    }
   ],
   "source": [
    "variable = 1\n",
    "for num in range(10):\n",
    "    for index in range(num):\n",
    "        index\n",
    "        variable+=1\n",
    "print(variable)\n",
    "# a_n = a_(n-1) + b_(n-1)\n",
    "# b_n = n"
   ]
  },
  {
   "cell_type": "code",
   "execution_count": 1,
   "metadata": {
    "colab": {
     "base_uri": "https://localhost:8080/",
     "height": 34
    },
    "colab_type": "code",
    "executionInfo": {
     "elapsed": 1749,
     "status": "ok",
     "timestamp": 1579012614716,
     "user": {
      "displayName": "SK Y",
      "photoUrl": "",
      "userId": "18337971987173937587"
     },
     "user_tz": -540
    },
    "id": "BL0jwJjte6Gm",
    "outputId": "1ea58c3a-ced4-4267-c816-7974c16c1e2b"
   },
   "outputs": [
    {
     "name": "stdout",
     "output_type": "stream",
     "text": [
      "121\n"
     ]
    }
   ],
   "source": [
    "variable = 1\n",
    "for i in range(10):\n",
    "    for num in range(i):\n",
    "        for index in range(num):\n",
    "            index\n",
    "            variable+=1\n",
    "print(variable)"
   ]
  },
  {
   "cell_type": "markdown",
   "metadata": {
    "colab_type": "text",
    "id": "r0wbKDQEe6Gp"
   },
   "source": [
    "## 알고리즘\n",
    "### 알고리즘 복잡도\n",
    "- 어떤 알고리즘이 더 좋은지를 분석하기 위해 복잡도를 정의 & 계산한다.\n",
    "    - **시간 복잡도: 실행 속도**\n",
    "    - 공간 복잡도: 메모리 사이즈\n",
    "- 시간 복잡도의 주요 요소: **반복문**이 핵심 요소\n",
    "- 표기법\n",
    "    - Big O 표기법 O(N): 알고리즘 최악의 실행 시간을 표기\n",
    "        - 성능을 보장하는 값이므로(최소 이정도) 가장 일반적으로 사용\n",
    "    - Omega 표기법 Ω(N): 알고리즘 최상의 실행 시간을 표기\n",
    "    - theta 표기법 Θ(N): 알고리즘 평균 실행 시간을 표기\n",
    "- Big O 표기법 자세히\n",
    "    - N: 입력되는 숫자에 대해 얼마나 실행되는가.\n",
    "    - O(1): 상수 < O(log n): 밑은 2이다. < O(n) < O(n log n) < O(n^2) < O(2^n) < O(n!)\n",
    "    - N의 크기에 따라 기하급수적으로 시간 복잡도가 늘어날 수도 있음\n"
   ]
  },
  {
   "cell_type": "code",
   "execution_count": 6,
   "metadata": {
    "colab": {
     "base_uri": "https://localhost:8080/",
     "height": 34
    },
    "colab_type": "code",
    "executionInfo": {
     "elapsed": 1180,
     "status": "ok",
     "timestamp": 1579014272112,
     "user": {
      "displayName": "SK Y",
      "photoUrl": "",
      "userId": "18337971987173937587"
     },
     "user_tz": -540
    },
    "id": "8dCqYgXMkeY6",
    "outputId": "b8e5b95a-8af6-4ad7-8e45-de3cbb02813b"
   },
   "outputs": [
    {
     "data": {
      "text/plain": [
       "5050"
      ]
     },
     "execution_count": 6,
     "metadata": {
      "tags": []
     },
     "output_type": "execute_result"
    }
   ],
   "source": [
    "# 1부터 n의 합을 구하는 알고리즘\n",
    "\n",
    "# 1)\n",
    "def sumN(n):\n",
    "    sum = 0\n",
    "    for num in range(1,n+1): # 1~n까지 n번 더한다. -> O(n)\n",
    "        sum += num\n",
    "    return sum\n",
    "\n",
    "sumN(100)\n",
    "\n",
    "# 2)\n",
    "def sumN1(n):\n",
    "    return int(n*(n+1)/2) # 1번 대입해서 계산 -> O(1)\n",
    "\n",
    "sumN1(100)"
   ]
  },
  {
   "cell_type": "code",
   "execution_count": 0,
   "metadata": {
    "colab": {},
    "colab_type": "code",
    "id": "km9ZDmjve6Gq",
    "outputId": "795afea2-308f-43f5-ee56-9fa279c93561"
   },
   "outputs": [
    {
     "data": {
      "text/plain": [
       "3"
      ]
     },
     "execution_count": 70,
     "metadata": {
      "tags": []
     },
     "output_type": "execute_result"
    }
   ],
   "source": [
    "# 실습1: 최대공약수 -> Euclid's Algorithm\n",
    "def gcd(M,N):\n",
    "    if M < N:\n",
    "        (M,N) = (N,M) # M에 더 큰 수가 가도록\n",
    "    while M%N != 0:\n",
    "        (M,N) = (N,M%N) # M <- N, N <- M%N\n",
    "    return N # 바뀐 상태의 N이므로\n",
    "\n",
    "val = gcd(12,21)\n",
    "val"
   ]
  },
  {
   "cell_type": "code",
   "execution_count": 1,
   "metadata": {
    "colab": {},
    "colab_type": "code",
    "id": "4vLgS2n-e6Gs",
    "outputId": "b195bac7-44a9-4760-a266-35d492efc630"
   },
   "outputs": [
    {
     "data": {
      "text/plain": [
       "55"
      ]
     },
     "execution_count": 1,
     "metadata": {},
     "output_type": "execute_result"
    }
   ],
   "source": [
    "# 실습2: Fibonacci Sequence 1\n",
    "import math\n",
    "\n",
    "def fifoIter1(n):\n",
    "    if n < 2:\n",
    "        return n # 0번째, 1번째항 = 0, 1\n",
    "    a, b = 0, 1\n",
    "    for i in range(n): \n",
    "    # n = 2 -> i = 0: a,b = 1(a_1),1(합->a_2), i = 1: a,b = 1(a_2),2(a_3)\n",
    "    # a,b = n번째 항(n번 앞으로 당겨짐), 다음 항 준비(더하기)\n",
    "        a,b = b, a+b\n",
    "    return a\n",
    "\n",
    "fifoIter1(10)"
   ]
  },
  {
   "cell_type": "code",
   "execution_count": 2,
   "metadata": {
    "colab": {},
    "colab_type": "code",
    "id": "wtjqBTZTe6Gv",
    "outputId": "f4288f7c-5dc5-4ea4-fa4f-f05f7a085949"
   },
   "outputs": [
    {
     "data": {
      "text/plain": [
       "55"
      ]
     },
     "execution_count": 2,
     "metadata": {},
     "output_type": "execute_result"
    }
   ],
   "source": [
    "# Fibonacci Sequence 2\n",
    "def fifoIter2(n):\n",
    "    if n < 2:\n",
    "        return n\n",
    "    return fifoIter2(n-1)+fifoIter2(n-2) # 점화식을 넣어준다: 재귀호출\n",
    "\n",
    "fifoIter2(10)"
   ]
  },
  {
   "cell_type": "code",
   "execution_count": 6,
   "metadata": {
    "colab": {},
    "colab_type": "code",
    "id": "GjMDxnwhe6Gz",
    "outputId": "875f3291-8af3-409e-cf70-0ca632f6b30b"
   },
   "outputs": [
    {
     "data": {
      "text/plain": [
       "False"
      ]
     },
     "execution_count": 6,
     "metadata": {},
     "output_type": "execute_result"
    }
   ],
   "source": [
    "# 실습3: Prime Number1: 무차별 대입 (Brute Force 방법)\n",
    "def Prime1(n):\n",
    "    num = abs(n) # 음수 -> 절대값\n",
    "    if num>1 and num<4:\n",
    "        return True\n",
    "    for i in range(2,num): # num보다 작은 수로 나눴을 때, 나누어 떨어지지 않도록\n",
    "        if num%i==0:\n",
    "            return False\n",
    "    return True\n",
    "\n",
    "Prime1(15)"
   ]
  },
  {
   "cell_type": "code",
   "execution_count": 0,
   "metadata": {
    "colab": {},
    "colab_type": "code",
    "id": "fB42zr-be6G2",
    "outputId": "d6d178c0-4b5f-4597-cf06-b8fa4e4b9ebd"
   },
   "outputs": [
    {
     "data": {
      "text/plain": [
       "True"
      ]
     },
     "execution_count": 90,
     "metadata": {
      "tags": []
     },
     "output_type": "execute_result"
    }
   ],
   "source": [
    "# Prime Number2: 2부터 루트 n 까지의 정수로 나누었을 때, 나누어 떨어지면 합성수, 없으면 소수\n",
    "def Prime2(n):\n",
    "    num = abs(n)\n",
    "    if num>1 and num<4:\n",
    "        return True\n",
    "    for i in range(2,int(math.sqrt(num))+1): # int(math.sqrt(n)): 루트 n의 소수점 부분은 절삭한다.\n",
    "        if num%i==0:\n",
    "            return False\n",
    "    return True\n",
    "\n",
    "Prime2(59)"
   ]
  },
  {
   "cell_type": "code",
   "execution_count": 10,
   "metadata": {
    "colab": {},
    "colab_type": "code",
    "id": "S_IaepRfe6G6"
   },
   "outputs": [
    {
     "name": "stdout",
     "output_type": "stream",
     "text": [
      "True\n"
     ]
    }
   ],
   "source": [
    "# Prime Number3: 페르마 소정리 -> ??\n",
    "import math\n",
    "import random\n",
    "\n",
    "def Prime3(n):\n",
    "    if n < 102:\n",
    "        for a in range(2,n):\n",
    "            if pow(a,n-1,n) != 1:\n",
    "                return False\n",
    "        return True\n",
    "    else:\n",
    "        for i in range(100):\n",
    "            a = random.randint(2,n-1)\n",
    "            if pow(a,n-1,n) != 1:\n",
    "                return False\n",
    "        return True\n",
    "    \n",
    "print(Prime3(103))"
   ]
  },
  {
   "cell_type": "markdown",
   "metadata": {},
   "source": [
    "## 모두의 파이썬 & 알고리즘\n",
    "### 1. 동명이인 찾기1\n",
    "- 집합: list와 같이 정보를 여러 개 넣어서 보관할 수 있는 기능\n",
    "- 같은 자료가 중복되어 들어가지 않고, 순서도 의미가 없다.\n",
    "- 두 번 이상 나온 이름 찾기\n",
    "- input: 이름이 n(!=1)개 들어있는 리스트\n",
    "- output: 이름 n개 중 반복되는 이름의 집합\n",
    "- 원리: 두 개를 지목하여, 비교\n",
    "- 예시) (0,1),(0,2),(0,3) -> (1,2),(1,3) -> (2,3)\n",
    "- 비교 횟수\n",
    "    - 0 index: n-1번 비교\n",
    "    - 1 index: n-2번 비교\n",
    "    - 2 index: n-3번 비교\n",
    "    - ...\n",
    "    - n-1 index: 0번 비교\n",
    "    - 전체 횟수: 0+1+2+3+...+(n-2)+(n-1) = 0.5n^2-0.5n번 비교\n",
    "    - O(n^2)"
   ]
  },
  {
   "cell_type": "code",
   "execution_count": 9,
   "metadata": {
    "colab": {},
    "colab_type": "code",
    "id": "sO8SJhJke6G9",
    "outputId": "ab633d3b-8046-4f8b-b93b-24ad982def09"
   },
   "outputs": [
    {
     "name": "stdout",
     "output_type": "stream",
     "text": [
      "{1, 3, (7, 8)}\n",
      "{1, 3, (7, 8)}\n"
     ]
    }
   ],
   "source": [
    "s = {1,3,(7,8)}\n",
    "t = s.copy()\n",
    "print(s)\n",
    "print(t)\n",
    "# s[1]=9 # 집합은 각각 원소는 immutable: 다른 방법으로 바꿔줘야함"
   ]
  },
  {
   "cell_type": "code",
   "execution_count": 12,
   "metadata": {
    "colab": {},
    "colab_type": "code",
    "id": "uKqHS5ZXe6HA"
   },
   "outputs": [],
   "source": [
    "def find_name(a):\n",
    "    n = len(a)\n",
    "    result = set() # 왜 set? 중복되도 중복해서 들어가지 않기 때문이다.\n",
    "    for i in range(n-1): # 먼저 지목한 이름\n",
    "        for j in range(i+1,n): # 먼저 지목한 이름과 함께 비교할 이름 지목\n",
    "            if a[i] == a[j]: # 같으면 추가한다.\n",
    "                result.add(a[i])\n",
    "    return result"
   ]
  },
  {
   "cell_type": "code",
   "execution_count": 13,
   "metadata": {
    "colab": {},
    "colab_type": "code",
    "id": "aSGJJ5pIe6HD",
    "outputId": "152af5e7-0ffb-4f32-8172-5dabe624bc72"
   },
   "outputs": [
    {
     "data": {
      "text/plain": [
       "{'Mike', 'Tom'}"
      ]
     },
     "execution_count": 13,
     "metadata": {},
     "output_type": "execute_result"
    }
   ],
   "source": [
    "name = ['Tom','Jerry','Mike','Tom','Mike']\n",
    "find_name(name)"
   ]
  },
  {
   "cell_type": "markdown",
   "metadata": {},
   "source": [
    "### 2. 팩토리얼 구하기 - 재귀 호출\n",
    "- 1! = 1, 2! = 2 * 1!, 3! = 3 * 2!, 4! = 4 * 3!\n",
    "- n! = n * (n-1)! -> 점화식\n",
    "- 입력: 정수 n\n",
    "- 출력: 1부터 n까지 연속한 정수를 곱한 값\n",
    "- 원리: 다른 제어문 쓰지 않고 그냥 점화식만 넣어줌 -> factorial(n-1)을 호출 -> ... -> factorial(1) = 1\n",
    "- n-1번 곱해줘야한다. -> O(n)\n",
    "- 재귀 호출에는 종료 조건이 꼭 필요하다."
   ]
  },
  {
   "cell_type": "code",
   "execution_count": 14,
   "metadata": {
    "colab": {},
    "colab_type": "code",
    "id": "wqBJ11fYe6HK"
   },
   "outputs": [
    {
     "name": "stdout",
     "output_type": "stream",
     "text": [
      "1\n",
      "120\n",
      "3628800\n"
     ]
    }
   ],
   "source": [
    "def factorial(n):\n",
    "    if n == 1:\n",
    "        return n\n",
    "    return n*factorial(n-1)\n",
    "\n",
    "print(factorial(1))\n",
    "print(factorial(5))\n",
    "print(factorial(10))"
   ]
  }
 ],
 "metadata": {
  "colab": {
   "collapsed_sections": [],
   "name": "day8.ipynb",
   "provenance": []
  },
  "kernelspec": {
   "display_name": "Python 3",
   "language": "python",
   "name": "python3"
  },
  "language_info": {
   "codemirror_mode": {
    "name": "ipython",
    "version": 3
   },
   "file_extension": ".py",
   "mimetype": "text/x-python",
   "name": "python",
   "nbconvert_exporter": "python",
   "pygments_lexer": "ipython3",
   "version": "3.7.4"
  }
 },
 "nbformat": 4,
 "nbformat_minor": 1
}
