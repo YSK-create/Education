{
 "cells": [
  {
   "cell_type": "markdown",
   "metadata": {
    "colab_type": "text",
    "id": "a2_4czijjBBH"
   },
   "source": [
    "## 2. 변수와 문자열\n",
    "### 변수: 어떤 값을 저장하는 공간\n",
    "- x = 100: x라는 값이 100을 가리키게 하라.\n",
    "- '=': 바인딩(binding: 가리키는 것)을 의미\n",
    "- 원리: 변수라는 곳에 데이터를 저장하고, 나중에 변수로 가서 실제 값을 읽는다.\n",
    "- 변수를 입력하면 값이 return된다.: 값 자체를 기억할 필요가 없음"
   ]
  },
  {
   "cell_type": "code",
   "execution_count": 2,
   "metadata": {
    "colab": {},
    "colab_type": "code",
    "id": "k9C5QeIBjBBM"
   },
   "outputs": [
    {
     "data": {
      "text/plain": [
       "1742331680"
      ]
     },
     "execution_count": 2,
     "metadata": {},
     "output_type": "execute_result"
    }
   ],
   "source": [
    "x=100\n",
    "id(x) # 100이라는 값이 메모리의 어딘가에 저장: 객체-->객체의 주소(?)=id()"
   ]
  },
  {
   "cell_type": "code",
   "execution_count": 3,
   "metadata": {
    "colab": {},
    "colab_type": "code",
    "id": "HwlLmrppjBBT",
    "outputId": "e7f87619-fad4-4dcd-c695-f626fc84135c"
   },
   "outputs": [
    {
     "data": {
      "text/plain": [
       "(1742331680, 1742331680)"
      ]
     },
     "execution_count": 3,
     "metadata": {},
     "output_type": "execute_result"
    }
   ],
   "source": [
    "x=100\n",
    "y=100\n",
    "id(x),id(y)\n",
    "# 256까지는 같은 id: 메모리에 한 번만 올리고 변수가 가리키게 해, 효과적 메모리 사용"
   ]
  },
  {
   "cell_type": "code",
   "execution_count": 4,
   "metadata": {
    "colab": {},
    "colab_type": "code",
    "id": "VO-IkSV5jBBa",
    "outputId": "1b7c49bb-7e65-4c26-a9d7-97d9672e189a"
   },
   "outputs": [
    {
     "data": {
      "text/plain": [
       "(98957184, 98957440)"
      ]
     },
     "execution_count": 4,
     "metadata": {},
     "output_type": "execute_result"
    }
   ],
   "source": [
    "x=10000\n",
    "y=10000\n",
    "id(x),id(y) # 서로 다른 객체가 생성된다."
   ]
  },
  {
   "cell_type": "markdown",
   "metadata": {},
   "source": [
    "- Sequence(연속형) 데이터 타입: 문자열, list, tuple, dictionary, set, byte, bytearray\n",
    "    - 반복성(iterability): 반복문에 있는 데이터를 순회할 수 있다.\n",
    "    - 슬라이싱(slicing): 자를 수 있음\n",
    "    - 멤버쉽(membership) 연산: in 키워드 사용\n",
    "    - len() 함수 지원\n",
    "    - bytes는 요소를 변경할 수 없고, bytearray는 변경가능, 둘 다 1바이트 단위의 값을 연속적으로 저장하는 시퀀스 자료형\n",
    "    - 불변: 문자열, 튜플, 숫자, bytes/가변: 리스트, 딕셔너리, 셋, bytearray"
   ]
  },
  {
   "cell_type": "code",
   "execution_count": 5,
   "metadata": {
    "colab": {},
    "colab_type": "code",
    "id": "mZlGrIXrjBBe",
    "outputId": "fb5b5f6a-b073-4c6d-f923-1ea0c28c7d11"
   },
   "outputs": [
    {
     "name": "stdout",
     "output_type": "stream",
     "text": [
      "aTuple: (1, 2, 3, [7, 8, 9])\n",
      "aTuple-1(id): 98781584 aTuple-1(value): [7, 8, 9]\n",
      "aTuple: (1, 2, 3, [7, 8, 9, 10])\n",
      "aTuple-1(id): 98781584 aTuple-1(value): [7, 8, 9, 10]\n",
      "True\n"
     ]
    }
   ],
   "source": [
    "'''\n",
    "aTuple=(1,2,3)\n",
    "print(aTuple)\n",
    "id_1 = aTuple[-1]\n",
    "aTuple[-1].append(10) # error: 튜플은 변경불가\n",
    "'''\n",
    "aTuple=(1,2,3,[7,8,9])\n",
    "print('aTuple:', aTuple)\n",
    "\n",
    "id_1 = aTuple[-1]\n",
    "print('aTuple-1(id):',id(id_1),'aTuple-1(value):',id_1)\n",
    "\n",
    "aTuple[-1].append(10) # aTuple[-1]는 리스트이다.\n",
    "print('aTuple:',aTuple)\n",
    "\n",
    "id_2 = aTuple[-1] # 같은 곳에 지정되서 id()가 같다.\n",
    "print('aTuple-1(id):',id(id_2),'aTuple-1(value):',id_2)\n",
    "\n",
    "print(id_1==id_2)\n",
    "# 튜플이라는 container에다가 다른 객체들(objects)을 참조(reference)하는데, 그 안의 객체가 변경된 거임"
   ]
  },
  {
   "cell_type": "code",
   "execution_count": 6,
   "metadata": {
    "colab": {},
    "colab_type": "code",
    "id": "e-vRIouLjBBj",
    "outputId": "5abe4b28-614f-413b-82d3-1455103f8747"
   },
   "outputs": [
    {
     "data": {
      "text/plain": [
       "'worl'"
      ]
     },
     "execution_count": 6,
     "metadata": {},
     "output_type": "execute_result"
    }
   ],
   "source": [
    "# slicing\n",
    "mystring = 'hello world'\n",
    "len(mystring)\n",
    "mystring[:5]\n",
    "mystring[6:11]\n",
    "mystring[6:-1]"
   ]
  },
  {
   "cell_type": "code",
   "execution_count": 7,
   "metadata": {
    "colab": {},
    "colab_type": "code",
    "id": "ORQLwok8jBBp",
    "outputId": "637bbf51-ca8b-4025-99c9-69815de1735b"
   },
   "outputs": [
    {
     "name": "stdout",
     "output_type": "stream",
     "text": [
      "naver\n"
     ]
    }
   ],
   "source": [
    "# split\n",
    "my_jusik='naver daum'\n",
    "split_jusik=my_jusik.split(' ')\n",
    "split_jusik\n",
    "print(split_jusik[0])"
   ]
  },
  {
   "cell_type": "code",
   "execution_count": 8,
   "metadata": {
    "colab": {},
    "colab_type": "code",
    "id": "8xSql2lgjBBu",
    "outputId": "71e4b22d-85b1-467c-8375-54374b888486"
   },
   "outputs": [
    {
     "data": {
      "text/plain": [
       "'Daum KAKAO'"
      ]
     },
     "execution_count": 8,
     "metadata": {},
     "output_type": "execute_result"
    }
   ],
   "source": [
    "# 문자열 합치기\n",
    "daum='Daum'\n",
    "kakao='KAKAO'\n",
    "daum_kakao=daum+' '+kakao\n",
    "daum_kakao"
   ]
  },
  {
   "cell_type": "code",
   "execution_count": 9,
   "metadata": {
    "colab": {},
    "colab_type": "code",
    "id": "VKhur53EjBBy",
    "outputId": "a7047b6a-a9ee-4946-c8c3-9ae08a95121c"
   },
   "outputs": [
    {
     "data": {
      "text/plain": [
       "['__add__',\n",
       " '__class__',\n",
       " '__contains__',\n",
       " '__delattr__',\n",
       " '__dir__',\n",
       " '__doc__',\n",
       " '__eq__',\n",
       " '__format__',\n",
       " '__ge__',\n",
       " '__getattribute__',\n",
       " '__getitem__',\n",
       " '__getnewargs__',\n",
       " '__gt__',\n",
       " '__hash__',\n",
       " '__init__',\n",
       " '__init_subclass__',\n",
       " '__iter__',\n",
       " '__le__',\n",
       " '__len__',\n",
       " '__lt__',\n",
       " '__mod__',\n",
       " '__mul__',\n",
       " '__ne__',\n",
       " '__new__',\n",
       " '__reduce__',\n",
       " '__reduce_ex__',\n",
       " '__repr__',\n",
       " '__rmod__',\n",
       " '__rmul__',\n",
       " '__setattr__',\n",
       " '__sizeof__',\n",
       " '__str__',\n",
       " '__subclasshook__',\n",
       " 'capitalize',\n",
       " 'casefold',\n",
       " 'center',\n",
       " 'count',\n",
       " 'encode',\n",
       " 'endswith',\n",
       " 'expandtabs',\n",
       " 'find',\n",
       " 'format',\n",
       " 'format_map',\n",
       " 'index',\n",
       " 'isalnum',\n",
       " 'isalpha',\n",
       " 'isascii',\n",
       " 'isdecimal',\n",
       " 'isdigit',\n",
       " 'isidentifier',\n",
       " 'islower',\n",
       " 'isnumeric',\n",
       " 'isprintable',\n",
       " 'isspace',\n",
       " 'istitle',\n",
       " 'isupper',\n",
       " 'join',\n",
       " 'ljust',\n",
       " 'lower',\n",
       " 'lstrip',\n",
       " 'maketrans',\n",
       " 'partition',\n",
       " 'replace',\n",
       " 'rfind',\n",
       " 'rindex',\n",
       " 'rjust',\n",
       " 'rpartition',\n",
       " 'rsplit',\n",
       " 'rstrip',\n",
       " 'split',\n",
       " 'splitlines',\n",
       " 'startswith',\n",
       " 'strip',\n",
       " 'swapcase',\n",
       " 'title',\n",
       " 'translate',\n",
       " 'upper',\n",
       " 'zfill']"
      ]
     },
     "execution_count": 9,
     "metadata": {},
     "output_type": "execute_result"
    }
   ],
   "source": [
    "# 데이터 타입\n",
    "type(70000)\n",
    "type(3.141592)\n",
    "type('python')\n",
    "dir(str)"
   ]
  },
  {
   "cell_type": "markdown",
   "metadata": {
    "colab": {},
    "colab_type": "code",
    "id": "v2-otYtmjBB2"
   },
   "source": [
    "cf) 문자열 함수(메서드)\n",
    "    1. upper: 대문자\n",
    "    2. replace: 특정 문자를 치환\n",
    "    3. split: 문자열을 '특정 문자'로 구분, list로 치환\n",
    "    4. join: list의 문자열을 단일 문자열로 split의 반대\n",
    "    5. format: 문자열의 포맷을 지정"
   ]
  },
  {
   "cell_type": "code",
   "execution_count": 11,
   "metadata": {
    "colab": {},
    "colab_type": "code",
    "id": "fINk1dXOjBB7",
    "outputId": "37f77119-3230-49e2-bc0c-12797c6316a8"
   },
   "outputs": [
    {
     "name": "stdout",
     "output_type": "stream",
     "text": [
      "springsummerautumnwinter\n",
      "spring summer autumn winter\n",
      "spring^^*summer^^*autumn^^*winter\n",
      "winter autumn summer spring\n",
      "['spring', 'summer', 'autumn', 'winter']\n"
     ]
    }
   ],
   "source": [
    "# join(),reversed(),split()\n",
    "seasons=['spring','summer','autumn','winter']\n",
    "joinStr1=''.join(seasons)\n",
    "joinStr2=' '.join(seasons)\n",
    "joinStr3='^^*'.join(seasons)\n",
    "print(joinStr1)\n",
    "print(joinStr2)\n",
    "print(joinStr3)\n",
    "joinStr4=' '.join(reversed(seasons))\n",
    "print(joinStr4)\n",
    "aList=joinStr2.split()\n",
    "print(aList)"
   ]
  },
  {
   "cell_type": "code",
   "execution_count": 12,
   "metadata": {
    "colab": {},
    "colab_type": "code",
    "id": "2RWUIH8ejBCA",
    "outputId": "6c9a9454-e2b4-488b-d6ad-759dd00876f9"
   },
   "outputs": [
    {
     "name": "stdout",
     "output_type": "stream",
     "text": [
      "a:  Python World\n",
      "aUp:  PYTHON WORLD\n",
      "aLow:  python world\n",
      "aCap:  Python world\n",
      "aRep:  Pythan Warld\n",
      "a:  Python World\n"
     ]
    }
   ],
   "source": [
    "# upper(),lower(),capitalize(),replace()\n",
    "a = 'Python World'\n",
    "print('a: ',a)\n",
    "\n",
    "aUp = a.upper()\n",
    "print('aUp: ',aUp)\n",
    "\n",
    "aLow = a.lower()\n",
    "print('aLow: ',aLow)\n",
    "\n",
    "aCap = a.capitalize()\n",
    "print('aCap: ',aCap)\n",
    "\n",
    "aRep = a.replace('o','a')\n",
    "print('aRep: ',aRep)\n",
    "\n",
    "print('a: ',a) # 위 메서드들은 a를 바꾸는 것이 아니라 새로운 문자열을 생성하는 것이다."
   ]
  },
  {
   "cell_type": "code",
   "execution_count": 13,
   "metadata": {
    "colab": {},
    "colab_type": "code",
    "id": "Z3rMRgT4jBCF",
    "outputId": "070970bd-5ecc-40be-f09a-b4494cff4ccd"
   },
   "outputs": [
    {
     "name": "stdout",
     "output_type": "stream",
     "text": [
      "one two\n",
      "1 2\n",
      "one two\n",
      "1 2\n",
      "Alpha Omega!\n",
      "SeongKyu Yoon\n",
      "Yoon SeongKyu\n",
      "SeongKyu Yoon\n",
      "Yoon SeongKyu\n"
     ]
    },
    {
     "data": {
      "text/plain": [
       "'2019-12-27 10:15'"
      ]
     },
     "execution_count": 13,
     "metadata": {},
     "output_type": "execute_result"
    }
   ],
   "source": [
    "# format()\n",
    "print('%s %s'%('one','two'))\n",
    "print('%d %d'%(1,2))\n",
    "\n",
    "print('{} {}'.format('one','two'))\n",
    "print('{} {}'.format(1,2))\n",
    "\n",
    "data = {'first':'Alpha','last':'Omega!'}\n",
    "print('%(first)s %(last)s'% data)\n",
    "\n",
    "'{first} {last}'.format(**data) #dictonary 참조 ->cf) list, tuple이라면 *data\n",
    "\n",
    "print('{first} {last}'.format(first='SeongKyu', last='Yoon'))\n",
    "print('{last} {first}'.format(first='SeongKyu', last='Yoon'))\n",
    "print('{} {}'.format('SeongKyu','Yoon'))\n",
    "print('{1} {0}'.format('SeongKyu','Yoon'))\n",
    "\n",
    "from datetime import datetime\n",
    "'{}'.format(datetime(2019,12,27,10,15)) # datetime(2019,12,27,10,15)는 하나의 객체\n",
    "'{:%Y-%m-%d %H:%M}'.format(datetime(2019,12,27,10,15))\n",
    "# http://docs.python.org/3/library/string.html#string-formatting"
   ]
  },
  {
   "cell_type": "code",
   "execution_count": 14,
   "metadata": {
    "colab": {},
    "colab_type": "code",
    "id": "RkCqwgthjBCL",
    "outputId": "325600d6-05ae-40b1-f19e-32570d4100a9"
   },
   "outputs": [
    {
     "name": "stdout",
     "output_type": "stream",
     "text": [
      "pyt\n",
      "pyth\n",
      "python\n",
      "cd\n",
      "odi\n",
      "gnidoc\n"
     ]
    }
   ],
   "source": [
    "# 연습문제1\n",
    "a='python'\n",
    "b='coding'\n",
    "print(a[:3])\n",
    "print(a[:4])\n",
    "print(a[:len(a)])\n",
    "print(b[:4:2]) # a[start:end:step]\n",
    "print(b[1:-2])\n",
    "print(b[::-1])"
   ]
  },
  {
   "cell_type": "markdown",
   "metadata": {
    "colab_type": "text",
    "id": "0hUZ37mvjBCQ"
   },
   "source": [
    "## 3. 파이썬 기본 자료구조\n",
    "### list"
   ]
  },
  {
   "cell_type": "code",
   "execution_count": 15,
   "metadata": {
    "colab": {},
    "colab_type": "code",
    "id": "YfNWZhIbjBCR",
    "outputId": "bc4cb27a-25cf-45a7-d47e-1c590470d8c4"
   },
   "outputs": [],
   "source": [
    "# list 생성하기\n",
    "list1=list() # 빈 list 생성 -> list1 = []\n",
    "list2=list([2,3,4]) # 2,3,4를 원소로 가지는 list 생성 -> list2 = [2,3,4]\n",
    "list3=list(['spring','summer','autumn','winter']) # 문자열을 가진 리스트 생성 ->list3 = ['spring','summer','autumn','winter']\n",
    "list4=list(range(3,6)) # 3=<x<6 인 정수\n",
    "list5=list('aomg') #list('aomg')!=list(['aomg'])"
   ]
  },
  {
   "cell_type": "markdown",
   "metadata": {},
   "source": [
    "- list method\n",
    "    - append(x): 끝자리에 x라는 object 삽입, return 없이 그냥 list를 바꿈\n",
    "    - insert(index, x): index에 x 삽입, return 없이 그냥 list를 바꿈\n",
    "    - remove(x): list에서 첫번째로 보이는 x를 삭제, return 없이 그냥 list를 바꿈\n",
    "    - index(x): x의 인덱스로 return한다, 당연히 list는 그대로\n",
    "    - count(x): x가 나오는 횟수로 return한다, 당연히 list는 그대로\n",
    "    - sort(): list를 정렬해준다, return없이 그냥 list를 바꿈\n",
    "    - reverse(): 순서 반전, return없이 그냥 list를 바꿈\n",
    "    - extend(L): L이라는 모든 것들을 list에 넣는다, return없이 그냥 list를 바꿈\n",
    "    - pop(i): [i]번째 index를 뽑아내서 return, list도 바뀜"
   ]
  },
  {
   "cell_type": "code",
   "execution_count": 16,
   "metadata": {
    "colab": {},
    "colab_type": "code",
    "id": "lTiFj7MAjBCW",
    "outputId": "ce255c81-44a2-4ef6-e105-fff54a7bd532"
   },
   "outputs": [
    {
     "name": "stdout",
     "output_type": "stream",
     "text": [
      "[10, 20, 30, 40]\n",
      "None\n",
      "['삼성전자', 'SK하이닉스', '현대자동차', '한국전력', '아모레퍼시픽', '제일모직', '삼성전자우', '삼성생명', 'NAVER', '현대모비스', 'SK텔레콤']\n",
      "None\n",
      "['삼성전자', 'SK하이닉스', '현대자동차', '한국전력', '아모레퍼시픽', '제일모직', '삼성전자우', '삼성생명', 'NAVER', '현대모비스', 'SK텔레콤']\n"
     ]
    }
   ],
   "source": [
    "# append(x): 끝자리에 x라는 object 삽입, return 없이 그냥 list를 바꿈\n",
    "a = [10,20,30]\n",
    "b = a.append(40)\n",
    "print(a); print(b)\n",
    "\n",
    "kos_top10 = ['삼성전자','SK하이닉스','현대자동차','한국전력','아모레퍼시픽','제일모직','삼성전자우','삼성생명','NAVER','현대모비스']\n",
    "kos_top11=kos_top10.append('SK텔레콤')\n",
    "print(kos_top10); print(kos_top11)\n",
    "\n",
    "kos_top11=kos_top10 # append하는 것을 선언하면, return안함, 그냥 다 하고 나서 선언해주어야 함\n",
    "print(kos_top11)"
   ]
  },
  {
   "cell_type": "code",
   "execution_count": 17,
   "metadata": {},
   "outputs": [
    {
     "name": "stdout",
     "output_type": "stream",
     "text": [
      "[10, 20, 50, 30, 40]\n",
      "None\n"
     ]
    }
   ],
   "source": [
    "# insert(index, x): index에 x 삽입, return 없이 그냥 list를 바꿈\n",
    "c = a.insert(2,50)\n",
    "print(a); print(c)"
   ]
  },
  {
   "cell_type": "code",
   "execution_count": 18,
   "metadata": {},
   "outputs": [
    {
     "name": "stdout",
     "output_type": "stream",
     "text": [
      "[20, 10, 30, 10, 40, 20]\n",
      "None\n"
     ]
    }
   ],
   "source": [
    "# remove(x): list에서 첫번째로 보이는 x를 삭제, return 없이 그냥 list를 바꿈\n",
    "a1 = [10,20,10,30,10,40,20]\n",
    "d = a1.remove(10)\n",
    "print(a1); print(d)"
   ]
  },
  {
   "cell_type": "code",
   "execution_count": 19,
   "metadata": {},
   "outputs": [
    {
     "name": "stdout",
     "output_type": "stream",
     "text": [
      "[15, 21, 44, 37]\n",
      "1\n"
     ]
    }
   ],
   "source": [
    "# index(x): x의 인덱스로 return한다, 당연히 list는 그대로\n",
    "a2 = [15,21,44,37]\n",
    "e = a2.index(21)\n",
    "print(a2); print(e)"
   ]
  },
  {
   "cell_type": "code",
   "execution_count": 20,
   "metadata": {},
   "outputs": [
    {
     "name": "stdout",
     "output_type": "stream",
     "text": [
      "['승', '승', '패', '패', '패', '승', '패', '패', '패', '승']\n",
      "4\n"
     ]
    }
   ],
   "source": [
    "# count(x): x가 나오는 횟수로 return한다, 당연히 list는 그대로\n",
    "a3 = ['승','승','패','패','패','승','패','패','패','승']\n",
    "f = a3.count('승')\n",
    "print(a3); print(f)"
   ]
  },
  {
   "cell_type": "code",
   "execution_count": 21,
   "metadata": {},
   "outputs": [
    {
     "name": "stdout",
     "output_type": "stream",
     "text": [
      "[13, 17, 34, 66, 71, 105]\n",
      "None\n",
      "['김광현', '류현진', '양현종', '윤석민', '장원준']\n",
      "None\n",
      "['Arenado', 'Cole', 'Harper', 'Machado', 'Ryu', 'Strasburg', 'Trout']\n",
      "None\n"
     ]
    }
   ],
   "source": [
    "# sort(): list를 정렬해준다, return없이 그냥 list를 바꿈\n",
    "lst1=[105,34,71,66,13,17]\n",
    "g = lst1.sort()\n",
    "print(lst1); print(g)\n",
    "\n",
    "lst2=['김광현','장원준','류현진','양현종','윤석민']\n",
    "s_lst2=lst2.sort()\n",
    "print(lst2); print(s_lst2) # 한글도 sort됨\n",
    "\n",
    "lst3=['Trout','Machado','Harper','Strasburg','Cole','Arenado','Ryu']\n",
    "s_lst3=lst3.sort()\n",
    "print(lst3); print(s_lst3) # 영어 당연히 sort됨"
   ]
  },
  {
   "cell_type": "code",
   "execution_count": 22,
   "metadata": {},
   "outputs": [
    {
     "name": "stdout",
     "output_type": "stream",
     "text": [
      "[9, 11, 16, 13, 14, 17, 18]\n",
      "None\n"
     ]
    }
   ],
   "source": [
    "# reverse(): 순서 반전, return없이 그냥 list를 바꿈\n",
    "a4 = [18,17,14,13,16,11,9]\n",
    "h = a4.reverse()\n",
    "print(a4); print(h)"
   ]
  },
  {
   "cell_type": "code",
   "execution_count": 23,
   "metadata": {},
   "outputs": [
    {
     "name": "stdout",
     "output_type": "stream",
     "text": [
      "[1, 0, 12, 16, 7, 1, 9, 16, 15, 10, 20, 13, 16]\n",
      "None\n"
     ]
    }
   ],
   "source": [
    "# extend(L): L이라는 모든 것들을 list에 넣는다, return없이 그냥 list를 바꿈\n",
    "a5 = [1,0,12,16,7,1,9]\n",
    "# e_a5 = a5.extend(16,15,10,20,13,16): error->한 개만\n",
    "e_a5 = a5.extend([16,15,10,20,13,16]) #tuple의 모양도 똑같다: 넣은 후 수정도 가능\n",
    "print(a5); print(e_a5)"
   ]
  },
  {
   "cell_type": "code",
   "execution_count": 24,
   "metadata": {},
   "outputs": [
    {
     "name": "stdout",
     "output_type": "stream",
     "text": [
      "[3, 16, 12, 17, 4, 8, 10, 13, 14, 11, 11]\n",
      "17\n",
      "[3, 16, 12, 17, 4, 8, 10, 13, 14, 11]\n",
      "11\n"
     ]
    }
   ],
   "source": [
    "# pop(i): [i]번째 index를 뽑아내서 return, list도 바뀜\n",
    "a6 = [3,16,12,17,4,8,10,13,14,11,11,17]\n",
    "p_a6 = a6.pop(-1)\n",
    "print(a6); print(p_a6)\n",
    "p2_a6 = a6.pop(-1)\n",
    "print(a6); print(p2_a6)"
   ]
  },
  {
   "cell_type": "code",
   "execution_count": 25,
   "metadata": {
    "colab": {},
    "colab_type": "code",
    "id": "01xoPQf9jBCd",
    "outputId": "eb07d122-678a-4eee-885b-46d1173831e7"
   },
   "outputs": [
    {
     "data": {
      "text/plain": [
       "['__add__',\n",
       " '__class__',\n",
       " '__contains__',\n",
       " '__delattr__',\n",
       " '__delitem__',\n",
       " '__dir__',\n",
       " '__doc__',\n",
       " '__eq__',\n",
       " '__format__',\n",
       " '__ge__',\n",
       " '__getattribute__',\n",
       " '__getitem__',\n",
       " '__gt__',\n",
       " '__hash__',\n",
       " '__iadd__',\n",
       " '__imul__',\n",
       " '__init__',\n",
       " '__init_subclass__',\n",
       " '__iter__',\n",
       " '__le__',\n",
       " '__len__',\n",
       " '__lt__',\n",
       " '__mul__',\n",
       " '__ne__',\n",
       " '__new__',\n",
       " '__reduce__',\n",
       " '__reduce_ex__',\n",
       " '__repr__',\n",
       " '__reversed__',\n",
       " '__rmul__',\n",
       " '__setattr__',\n",
       " '__setitem__',\n",
       " '__sizeof__',\n",
       " '__str__',\n",
       " '__subclasshook__',\n",
       " 'append',\n",
       " 'clear',\n",
       " 'copy',\n",
       " 'count',\n",
       " 'extend',\n",
       " 'index',\n",
       " 'insert',\n",
       " 'pop',\n",
       " 'remove',\n",
       " 'reverse',\n",
       " 'sort']"
      ]
     },
     "execution_count": 25,
     "metadata": {},
     "output_type": "execute_result"
    }
   ],
   "source": [
    "# list의 method들 목록\n",
    "dir(list)"
   ]
  },
  {
   "cell_type": "code",
   "execution_count": 26,
   "metadata": {
    "colab": {},
    "colab_type": "code",
    "id": "6I8JhauYjBCj",
    "outputId": "2c43b04e-2f26-4c23-e87c-f40ec3701493"
   },
   "outputs": [
    {
     "data": {
      "text/plain": [
       "9300"
      ]
     },
     "execution_count": 26,
     "metadata": {},
     "output_type": "execute_result"
    }
   ],
   "source": [
    "# list indexing: list.index(x)와 역연산\n",
    "daishin = [9130,9150,9150,9300,9400]\n",
    "daishin[3] #9300, list[i]=x, list.index(x)=i"
   ]
  },
  {
   "cell_type": "code",
   "execution_count": 27,
   "metadata": {
    "colab": {},
    "colab_type": "code",
    "id": "RUmfvyMKjBCo",
    "outputId": "5553d00e-2dac-4555-c41b-40f6d798d890"
   },
   "outputs": [
    {
     "data": {
      "text/plain": [
       "['제일모직', '삼성생명', '현대모비스']"
      ]
     },
     "execution_count": 27,
     "metadata": {},
     "output_type": "execute_result"
    }
   ],
   "source": [
    "# list slicing\n",
    "kospi_top10 = ['삼성전자','SK하이닉스','현대자동차','한국전력','아모레퍼시픽','제일모직','삼성전자우','삼성생명','NAVER','현대모비스']\n",
    "kospi_top10[5:10:2] # [start:end:step] -> 그런데, 거꾸로(-)는 안된다."
   ]
  },
  {
   "cell_type": "code",
   "execution_count": 28,
   "metadata": {},
   "outputs": [
    {
     "data": {
      "text/plain": [
       "['삼성전자', 'SK하이닉스', '현대자동차', '한국전력', '아모레퍼시픽', '제일모직', '삼성전자우', '삼성생명', 'NAVER']"
      ]
     },
     "execution_count": 28,
     "metadata": {},
     "output_type": "execute_result"
    }
   ],
   "source": [
    "# list 데이터 삭제: 메서드로는 remove밖에 없음\n",
    "del kospi_top10[-1] # kospi_top10을 바꾸는 거임.: 문법 보면 알겠지만 반환이고 뭐고 없음\n",
    "kospi_top10"
   ]
  },
  {
   "cell_type": "code",
   "execution_count": 29,
   "metadata": {
    "colab": {},
    "colab_type": "code",
    "id": "xedtucBhjBCs",
    "outputId": "f98dcc06-b1e0-4dd9-8f8c-a5a8c5c350dd"
   },
   "outputs": [
    {
     "name": "stdout",
     "output_type": "stream",
     "text": [
      "[3, 4, 5, 7, 8, 9]\n",
      "[3, 4, 5, 7, 8, 9, 3, 4, 5, 7, 8, 9]\n",
      "False\n",
      "True\n"
     ]
    }
   ],
   "source": [
    "# 나머지 연산\n",
    "list1=[3,4,5]\n",
    "list2=[7,8,9]\n",
    "list3=list1+list2 # 더하기\n",
    "print(list3)\n",
    "list4=list3*2 # 곱하기\n",
    "print(list4)\n",
    "print(7 in list1) # in: 들어있냐? 아니냐?\n",
    "print(8 not in list1)"
   ]
  },
  {
   "cell_type": "code",
   "execution_count": 30,
   "metadata": {
    "colab": {},
    "colab_type": "code",
    "id": "oW3OLz6gjBCw",
    "outputId": "5f20dc95-425b-4c4f-f218-79d7a5438192"
   },
   "outputs": [
    {
     "name": "stdout",
     "output_type": "stream",
     "text": [
      "[1, 2, 3, 4, 5, 6, 7, 8, 9, 10]\n",
      "[2, 4, 6, 8, 10, 12, 14, 16, 18, 20]\n",
      "[4, 8, 12, 16, 20]\n"
     ]
    },
    {
     "data": {
      "text/plain": [
       "'\\nlist3=[]\\nfor i in list2:\\n    if i%4==0:\\n        list3.append(i)\\nprint(list3)\\n'"
      ]
     },
     "execution_count": 30,
     "metadata": {},
     "output_type": "execute_result"
    }
   ],
   "source": [
    "# list comprehension: 제어문 사용가능함\n",
    "list1=[i for i in range(1,11)] # 넣을 것 / 제어문\n",
    "print(list1)\n",
    "\n",
    "list2=[2*i for i in list1]\n",
    "print(list2)\n",
    "'''\n",
    "list2=[]\n",
    "for i in list1:\n",
    "    list2.append(2*i)\n",
    "print(list2)\n",
    "과 같은데 line 절약 가능\n",
    "'''\n",
    "list3= [i for i in list2 if i%4 == 0]\n",
    "print(list3)\n",
    "'''\n",
    "list3=[]\n",
    "for i in list2:\n",
    "    if i%4==0:\n",
    "        list3.append(i)\n",
    "print(list3)\n",
    "'''"
   ]
  },
  {
   "cell_type": "code",
   "execution_count": 31,
   "metadata": {
    "colab": {},
    "colab_type": "code",
    "id": "c1dzlCk5jBC3",
    "outputId": "76e16432-76df-46f6-cae0-e0c0bf039f5c"
   },
   "outputs": [
    {
     "name": "stdout",
     "output_type": "stream",
     "text": [
      "[1, 2, 3, 4, 5]\n",
      "[6, 7, 8, 9, 10]\n",
      "----after----\n",
      "[1, 2, 3, 4, 5]\n",
      "[1, 2, 3, 4, 5]\n"
     ]
    }
   ],
   "source": [
    "# list 복사하기\n",
    "list1 = [1,2,3,4,5]\n",
    "list2 = [6,7,8,9,10]\n",
    "print(list1)\n",
    "print(list2)\n",
    "print('----after----')\n",
    "list2=list1\n",
    "print(list1)\n",
    "print(list2)"
   ]
  },
  {
   "cell_type": "markdown",
   "metadata": {},
   "source": [
    "- 인자가 list인 경우는 \"reference 값이 전달\", 함수 내부에서 list 값을 변경하면 실제 list 값이 변경된다."
   ]
  },
  {
   "cell_type": "code",
   "execution_count": 32,
   "metadata": {
    "colab": {},
    "colab_type": "code",
    "id": "kVG4ULkVjBC9",
    "outputId": "25e18e18-c7d8-4d86-9490-cb8c4e4e29c2"
   },
   "outputs": [
    {
     "name": "stdout",
     "output_type": "stream",
     "text": [
      "x: 1\n",
      "y: [1000, 2, 3]\n"
     ]
    }
   ],
   "source": [
    "def main():\n",
    "    x=1\n",
    "    y=[1,2,3]\n",
    "    f1(x,y)\n",
    "    print('x:',x)\n",
    "    print('y:',y)\n",
    "    \n",
    "def f1(num,list1):\n",
    "    num = 100 # num에 새로운 값을 할당: 지역 변수라서 무시\n",
    "    list1[0] = 1000 # list1[0]에 새로운 값을 할당\n",
    "\n",
    "main() # 함수 호출"
   ]
  },
  {
   "cell_type": "code",
   "execution_count": 33,
   "metadata": {
    "colab": {},
    "colab_type": "code",
    "id": "fSr0nov1jBDC",
    "outputId": "cd2e89f2-b5dd-4173-998b-e2722e83953c"
   },
   "outputs": [
    {
     "name": "stdout",
     "output_type": "stream",
     "text": [
      "list1  [1]\n",
      "list2  [1, 2]\n",
      "list3  [11, 12, 13, 14, 7]\n",
      "list4  [1, 2, 4]\n",
      "list5  [11, 12, 13, 14, 7, 5]\n",
      "list6  [100, 6]\n",
      "list7  [1, 2, 4, 7]\n"
     ]
    }
   ],
   "source": [
    "# 연습문제1\n",
    "def add(x,lst=[]):\n",
    "    if not x in lst:\n",
    "        lst.append(x)\n",
    "    return lst\n",
    "\n",
    "list1 = add(1)\n",
    "print('list1 ',list1) # 이 list는 함수에 남아있음\n",
    "list2 = add(2)\n",
    "print('list2 ',list2) # 앞의 과정이 없었으면 그냥 [2]\n",
    "list3 = add(7,[11,12,13,14]) # 초기 list 설정 안 해주면, default에 남아있는 list로 간다.\n",
    "print('list3 ',list3)\n",
    "list4 = add(4)\n",
    "print('list4 ',list4)\n",
    "list5 = add(5,list3)\n",
    "print('list5 ',list5)\n",
    "list6 = add(6,[100])\n",
    "print('list6 ',list6)\n",
    "list7 = add(7)\n",
    "print('list7 ',list7)"
   ]
  },
  {
   "cell_type": "code",
   "execution_count": 34,
   "metadata": {
    "colab": {},
    "colab_type": "code",
    "id": "6vStvBJOjBDK",
    "outputId": "15a28a74-644b-4ce9-b7d9-0a7a806db02d"
   },
   "outputs": [
    {
     "name": "stdout",
     "output_type": "stream",
     "text": [
      "list1 [9, 7, 5, 3, 1]\n",
      "list2 None\n"
     ]
    }
   ],
   "source": [
    "# 연습문제2\n",
    "list1=[1,3,5,7,9]\n",
    "list2=list1.reverse() # list1을 바꾼다, return되는 값이 없다 -> 결과: None\n",
    "print('list1',list1)\n",
    "print('list2',list2)"
   ]
  },
  {
   "cell_type": "code",
   "execution_count": 35,
   "metadata": {},
   "outputs": [
    {
     "name": "stdout",
     "output_type": "stream",
     "text": [
      "list1  [1, 3, 5, 7, 9]\n",
      "list2  [9, 7, 5, 3, 1]\n"
     ]
    }
   ],
   "source": [
    "# 되게 하려면??: return값이 나와야 선언을 해줄 수 있다.\n",
    "def reverse(list):\n",
    "    result=[]\n",
    "    for i in list:\n",
    "        result.insert(0,i) # index 0에다가 i라는 값을 넣어라 -> 계속 넣으면: 역순\n",
    "    return result\n",
    "\n",
    "list1 = [1,3,5,7,9]\n",
    "list2 = reverse(list1)\n",
    "print('list1 ',list1)\n",
    "print('list2 ',list2)"
   ]
  },
  {
   "cell_type": "markdown",
   "metadata": {},
   "source": [
    "### tuple: 순서, 중복 가능 하지만 수정과 삭제는 불가능, 속도가 빠름\n",
    "- tuple slicing: ()아니고, []이다."
   ]
  },
  {
   "cell_type": "code",
   "execution_count": 36,
   "metadata": {
    "colab": {},
    "colab_type": "code",
    "id": "FIMUEUvOjBDO",
    "outputId": "46400b62-21f1-43e4-99b1-d1928ae237ca"
   },
   "outputs": [
    {
     "data": {
      "text/plain": [
       "'SK'"
      ]
     },
     "execution_count": 36,
     "metadata": {},
     "output_type": "execute_result"
    }
   ],
   "source": [
    "t = ('Samsung','LG','SK')\n",
    "len(t)\n",
    "t[0]\n",
    "t[1]\n",
    "t[2]"
   ]
  },
  {
   "cell_type": "code",
   "execution_count": 37,
   "metadata": {
    "colab": {},
    "colab_type": "code",
    "id": "2owFMMs8jBDX",
    "outputId": "bf8dde80-36af-451f-dd9a-8da489670dc1"
   },
   "outputs": [
    {
     "data": {
      "text/plain": [
       "('Samsung', 'LG')"
      ]
     },
     "execution_count": 37,
     "metadata": {},
     "output_type": "execute_result"
    }
   ],
   "source": [
    "t[0:2]"
   ]
  },
  {
   "cell_type": "code",
   "execution_count": 38,
   "metadata": {
    "colab": {},
    "colab_type": "code",
    "id": "ctNlxoyHjBDc",
    "outputId": "70d43a21-8524-4d99-ef9a-fc6f8a5e020e"
   },
   "outputs": [
    {
     "name": "stdout",
     "output_type": "stream",
     "text": [
      "5 4\n",
      "4 5\n"
     ]
    }
   ],
   "source": [
    "# a,b 값을 교환하여라\n",
    "a=5\n",
    "b=4\n",
    "print(a,b)\n",
    "a,b=b,a\n",
    "'''몹시 simple하다.\n",
    "temp=a\n",
    "a=b\n",
    "b=temp\n",
    "를 간단히 줄일 수 있다.\n",
    "'''\n",
    "print(a,b)"
   ]
  },
  {
   "cell_type": "markdown",
   "metadata": {},
   "source": [
    "### dictionary: key와 value를 갖는 데이터 구조, 쌍으로 저장\n",
    "- key는 내부적으로 hash값으로 저장한다.\n",
    "- 순서를 따지지 않는다. 즉, index가 없다."
   ]
  },
  {
   "cell_type": "code",
   "execution_count": 39,
   "metadata": {
    "colab": {
     "base_uri": "https://localhost:8080/",
     "height": 34
    },
    "colab_type": "code",
    "executionInfo": {
     "elapsed": 1804,
     "status": "ok",
     "timestamp": 1577974835327,
     "user": {
      "displayName": "SK Y",
      "photoUrl": "",
      "userId": "18337971987173937587"
     },
     "user_tz": -540
    },
    "id": "POQXEFuPjBDh",
    "outputId": "a4d6736b-9d10-40d7-9772-3295fc3910cb"
   },
   "outputs": [
    {
     "data": {
      "text/plain": [
       "30000"
      ]
     },
     "execution_count": 39,
     "metadata": {},
     "output_type": "execute_result"
    }
   ],
   "source": [
    "cur_price = {}\n",
    "type(cur_price) # dict\n",
    "\n",
    "cur_price['daeshin'] = 30000 # dic['key']=value -> 집어넣는다.\n",
    "cur_price\n",
    "\n",
    "cur_price['Daum KAKAO'] = 80000\n",
    "cur_price\n",
    "\n",
    "len(cur_price)\n",
    "\n",
    "cur_price['daeshin']"
   ]
  },
  {
   "cell_type": "code",
   "execution_count": 40,
   "metadata": {
    "colab": {},
    "colab_type": "code",
    "id": "ekYjDUccjBDm",
    "outputId": "b2edef83-f109-4c11-f55c-3583df74037e"
   },
   "outputs": [
    {
     "name": "stdout",
     "output_type": "stream",
     "text": [
      "{'Korea': 'Seoul', 'Canada': 'Ottawa', 'USA': 'Washington D.C', 'Japan': 'Kyoto', 'China': 'Beijing'}\n"
     ]
    }
   ],
   "source": [
    "# 항목 추가\n",
    "a = {'Korea':'Seoul','Canada':'Ottawa','USA':'Washington D.C'}\n",
    "a['Japan'] = 'Tokyo' # 삽입\n",
    "a['Japan'] = 'Kyoto' # 수정\n",
    "a['China'] = 'Beijing'\n",
    "\n",
    "print(a)"
   ]
  },
  {
   "cell_type": "code",
   "execution_count": 41,
   "metadata": {
    "colab": {
     "base_uri": "https://localhost:8080/",
     "height": 34
    },
    "colab_type": "code",
    "executionInfo": {
     "elapsed": 1035,
     "status": "ok",
     "timestamp": 1577974972426,
     "user": {
      "displayName": "SK Y",
      "photoUrl": "",
      "userId": "18337971987173937587"
     },
     "user_tz": -540
    },
    "id": "YkQVHg45jBDr",
    "outputId": "d2a9ea40-230a-4e05-a696-bf63b6a4dba5"
   },
   "outputs": [
    {
     "data": {
      "text/plain": [
       "{'Daum KAKAO': 80000, 'naver': 800000}"
      ]
     },
     "execution_count": 41,
     "metadata": {},
     "output_type": "execute_result"
    }
   ],
   "source": [
    "# 데이터 삽입, 및 삭제\n",
    "cur_price['Daum KAKAO'] = 80000\n",
    "cur_price['naver'] = 800000\n",
    "cur_price['daeshin'] = 30000\n",
    "cur_price\n",
    "\n",
    "del cur_price['daeshin'] # key로 삭제\n",
    "cur_price"
   ]
  },
  {
   "cell_type": "markdown",
   "metadata": {},
   "source": [
    "- dic.get('key'): key를 넣어서 value를 알아내는 것, key가 없을 때, None 발생\n",
    "- vs dic['key']: key 없을 때, error 발생"
   ]
  },
  {
   "cell_type": "code",
   "execution_count": 42,
   "metadata": {
    "colab": {
     "base_uri": "https://localhost:8080/",
     "height": 34
    },
    "colab_type": "code",
    "executionInfo": {
     "elapsed": 1014,
     "status": "ok",
     "timestamp": 1577975648634,
     "user": {
      "displayName": "SK Y",
      "photoUrl": "",
      "userId": "18337971987173937587"
     },
     "user_tz": -540
    },
    "id": "ZKDeuENEjBDw",
    "outputId": "3b881d94-3ddf-4a97-d528-5441877afb1a"
   },
   "outputs": [
    {
     "name": "stdout",
     "output_type": "stream",
     "text": [
      "None\n"
     ]
    }
   ],
   "source": [
    "aDic = {'first':1, 'second':2, 'third':3}\n",
    "# print(aDic['d']): error 발생\n",
    "print(aDic.get('d'))"
   ]
  },
  {
   "cell_type": "markdown",
   "metadata": {},
   "source": [
    "- dic.keys(): key만 반환, list로 만들고 싶으면, list()에 넣어줘야 함.\n",
    "- dic.values(): value만 반환, list로 만들고 싶으면, list()에 넣어줘야 함.\n",
    "- dic.items(): 둘 다 반환(쌍으로 tuple), list로 만들고 싶으면 list()에 넣어줘야 함.(list의 형태는 여러 개의 tuple(key,value)이 있는 구조)"
   ]
  },
  {
   "cell_type": "code",
   "execution_count": 43,
   "metadata": {
    "colab": {
     "base_uri": "https://localhost:8080/",
     "height": 87
    },
    "colab_type": "code",
    "executionInfo": {
     "elapsed": 763,
     "status": "ok",
     "timestamp": 1577975774905,
     "user": {
      "displayName": "SK Y",
      "photoUrl": "",
      "userId": "18337971987173937587"
     },
     "user_tz": -540
    },
    "id": "HT-Qk3LkjBD2",
    "outputId": "7face478-cb36-483d-f4e9-a51ea021304e"
   },
   "outputs": [
    {
     "name": "stdout",
     "output_type": "stream",
     "text": [
      "{'first': 1, 'second': 2, 'third': 3}\n",
      "['first', 'second', 'third']\n",
      "[1, 2, 3]\n",
      "[('first', 1), ('second', 2), ('third', 3)]\n"
     ]
    }
   ],
   "source": [
    "print(aDic)\n",
    "print(list(aDic.keys()))\n",
    "print(list(aDic.values()))\n",
    "print(list(aDic.items()))"
   ]
  },
  {
   "cell_type": "markdown",
   "metadata": {},
   "source": [
    "### set: 순서, 중복 없음, 주로 list나 tuple로 형변환해서 사용함, 수학 집합 생각하면 됨"
   ]
  },
  {
   "cell_type": "code",
   "execution_count": 44,
   "metadata": {
    "colab": {
     "base_uri": "https://localhost:8080/",
     "height": 87
    },
    "colab_type": "code",
    "executionInfo": {
     "elapsed": 826,
     "status": "ok",
     "timestamp": 1577976320062,
     "user": {
      "displayName": "SK Y",
      "photoUrl": "",
      "userId": "18337971987173937587"
     },
     "user_tz": -540
    },
    "id": "_vNH5upZjBD9",
    "outputId": "a9fa730c-deba-4668-90d9-6b6080cb66cf"
   },
   "outputs": [
    {
     "name": "stdout",
     "output_type": "stream",
     "text": [
      "{1, 2, 3, 4, 5}\n",
      "{8, 9, 7}\n",
      "[1, 1, 2, 3, 3, 4, 1, 5]\n",
      "{1, 2, 3, 4, 5}\n"
     ]
    }
   ],
   "source": [
    "a = {1,2,2,3,4,4,1,5}\n",
    "print(a)\n",
    "\n",
    "b=set({7,8,9})\n",
    "b #{7,8,9}\n",
    "print(b) #{8,9,7}\n",
    "\n",
    "a = [1,1,2,3,3,4,1,5]\n",
    "print(a)\n",
    "c = set(a)\n",
    "print(c)"
   ]
  },
  {
   "cell_type": "code",
   "execution_count": 45,
   "metadata": {
    "colab": {
     "base_uri": "https://localhost:8080/",
     "height": 141
    },
    "colab_type": "code",
    "executionInfo": {
     "elapsed": 816,
     "status": "ok",
     "timestamp": 1577976558278,
     "user": {
      "displayName": "SK Y",
      "photoUrl": "",
      "userId": "18337971987173937587"
     },
     "user_tz": -540
    },
    "id": "CxIUTXNPuDLk",
    "outputId": "235552db-2b4b-460c-d967-2d496abcb3fc"
   },
   "outputs": [
    {
     "name": "stdout",
     "output_type": "stream",
     "text": [
      "{4, 5, 6}\n",
      "{1, 2, 3, 4, 5, 6, 7, 8, 9}\n",
      "{1, 2, 3}\n",
      "False\n",
      "{4, 5, 6}\n",
      "{1, 2, 3, 4, 5, 6, 7, 8, 9}\n",
      "{1, 2, 3}\n"
     ]
    }
   ],
   "source": [
    "# 집합의 연산 메서드\n",
    "a = {1,2,3,4,5,6}\n",
    "b = {4,5,6,7,8,9}\n",
    "print(a.intersection(b)) # 교집합\n",
    "print(a.union(b)) # 합집합\n",
    "print(a.difference(b)) # 차집합(a-b)\n",
    "print(a.issubset(b)) # a는 b의부분집합이야?\n",
    "\n",
    "print(a&b) # 교집합\n",
    "print(a|b) # 합집합\n",
    "print(a-b) # 차집합(a-b)"
   ]
  },
  {
   "cell_type": "markdown",
   "metadata": {
    "colab_type": "text",
    "id": "wvHdSm0gjBEF"
   },
   "source": [
    "## 4. 제어문\n",
    "### Boolean과 논리 연산자: 비교 연산자-> True or False"
   ]
  },
  {
   "cell_type": "code",
   "execution_count": 0,
   "metadata": {
    "colab": {},
    "colab_type": "code",
    "id": "etoOIeWLjBEH",
    "outputId": "3a943977-e45f-4c38-c89a-bdbf66c6ad78"
   },
   "outputs": [
    {
     "name": "stdout",
     "output_type": "stream",
     "text": [
      "Newsapaper delivery: 101\n",
      "Newsapaper delivery: 102\n",
      "Newsapaper delivery: 103\n",
      "Newsapaper delivery: 104\n",
      "Newsapaper delivery: 201\n",
      "Newsapaper delivery: 202\n",
      "Newsapaper delivery: 203\n",
      "Newsapaper delivery: 204\n",
      "Newsapaper delivery: 301\n",
      "Newsapaper delivery: 302\n",
      "Newsapaper delivery: 303\n",
      "Newsapaper delivery: 304\n",
      "Newsapaper delivery: 401\n",
      "Newsapaper delivery: 402\n",
      "Newsapaper delivery: 403\n",
      "Newsapaper delivery: 404\n"
     ]
    }
   ],
   "source": [
    "a = True\n",
    "type(a) #'bool'\n",
    "b = False\n",
    "type(b) #'bool'\n",
    "\n",
    "3==3 #True\n",
    "3!=3 #False\n",
    "3<3 #False\n",
    "3<=3 #True\n",
    "\n",
    "day1=10000\n",
    "day2=13000\n",
    "(day2-day1)==(day1*0.3) #True"
   ]
  },
  {
   "cell_type": "markdown",
   "metadata": {},
   "source": [
    "### if: 참이면 실행\n",
    "- if ~ else: 참 실행/ 거짓 실행\n",
    "- if ~ elif ~ ... ~ else: 참 실행/ 나머지 중 하나 실행/그 나머지 중..../ 마지막"
   ]
  },
  {
   "cell_type": "code",
   "execution_count": 47,
   "metadata": {},
   "outputs": [
    {
     "name": "stdout",
     "output_type": "stream",
     "text": [
      "Buy 5\n",
      "Buy 5\n",
      "Buy 5\n"
     ]
    }
   ],
   "source": [
    "wikibooks_cur_price=11000\n",
    "if wikibooks_cur_price>=10000:\n",
    "    print('Buy 5')\n",
    "    print('Buy 5')\n",
    "    print('Buy 5')"
   ]
  },
  {
   "cell_type": "code",
   "execution_count": 48,
   "metadata": {},
   "outputs": [
    {
     "name": "stdout",
     "output_type": "stream",
     "text": [
      "Buy 10\n"
     ]
    }
   ],
   "source": [
    "wbcp=11000\n",
    "if wbcp>=10000:\n",
    "    print('Buy 10')\n",
    "else:\n",
    "    print('holding')"
   ]
  },
  {
   "cell_type": "code",
   "execution_count": 49,
   "metadata": {},
   "outputs": [],
   "source": [
    "price=7000\n",
    "if price<1000:\n",
    "    bid=1\n",
    "elif price>=1000 and price<5000:\n",
    "    bid=5\n",
    "elif price>=5000 and price<10000:\n",
    "    bid=10\n",
    "elif price>=10000 and price<50000:\n",
    "    bid=50\n",
    "elif price>=50000 and price<100000:\n",
    "    bid=100\n",
    "elif price>=100000 and price<500000:\n",
    "    bid=500\n",
    "elif price>=500000:\n",
    "    bid=1000"
   ]
  },
  {
   "cell_type": "markdown",
   "metadata": {},
   "source": [
    "### for: 리스트 또는 문자열과 같은 순회 가능한(sequence) 객체를 순회하면서 값 처리\n",
    "- range: 큰 수의 범위에서도 쉽게 작성 가능\n",
    "- for i in list: list안에 있는 원소를 i에 하나씩 바인딩(선언)한다, 반복적인 작업."
   ]
  },
  {
   "cell_type": "code",
   "execution_count": 52,
   "metadata": {},
   "outputs": [
    {
     "name": "stdout",
     "output_type": "stream",
     "text": [
      "1 2\n",
      "2 4\n",
      "4 8\n",
      "3 6\n",
      "5 10\n",
      "h\n",
      "e\n",
      "l\n",
      "l\n",
      "o\n",
      " \n",
      "p\n",
      "y\n",
      "t\n",
      "h\n",
      "o\n",
      "n\n",
      "h\n",
      "e\n",
      "l\n",
      "l\n",
      "o\n",
      " \n",
      "p\n",
      "y\n",
      "t\n",
      "h\n",
      "o\n",
      "n\n"
     ]
    }
   ],
   "source": [
    "aList=[1,2,4,3,5]\n",
    "for i in aList:\n",
    "    print(i,i*2)\n",
    "\n",
    "for i in 'hello python':\n",
    "    print(i)\n",
    "'''\n",
    "aStr = 'hello python'\n",
    "for ch in aStr:\n",
    "    print(ch)\n",
    "# 같은 결과\n",
    "'''"
   ]
  },
  {
   "cell_type": "code",
   "execution_count": 1,
   "metadata": {},
   "outputs": [
    {
     "name": "stdout",
     "output_type": "stream",
     "text": [
      "0\n",
      "1\n",
      "2\n",
      "3\n",
      "4\n",
      "5\n",
      "6\n",
      "7\n",
      "8\n",
      "9\n",
      "10\n",
      "0\n",
      "1\n",
      "2\n",
      "3\n",
      "4\n",
      "5\n",
      "6\n",
      "7\n",
      "8\n",
      "9\n",
      "10\n"
     ]
    }
   ],
   "source": [
    "for i in [0,1,2,3,4,5,6,7,8,9,10]:\n",
    "    print(i)\n",
    "    \n",
    "for i in range(0,11): # range(11)과 같은 결과\n",
    "    print(i) # 같다, 더 간결함"
   ]
  },
  {
   "cell_type": "code",
   "execution_count": 2,
   "metadata": {},
   "outputs": [
    {
     "name": "stdout",
     "output_type": "stream",
     "text": [
      "Naver: Buy 10\n",
      "Samsung: Buy 10\n",
      "SK Hynix: Buy 10\n",
      "2\n",
      "4\n",
      "2.0\n",
      "6\n",
      "3.0\n",
      "4.0\n",
      "5.0\n"
     ]
    }
   ],
   "source": [
    "interest_stocks = ['Naver','Samsung','SK Hynix']\n",
    "for company in interest_stocks:\n",
    "    print('%s: Buy 10'%company)\n",
    "\n",
    "## aList를 순회(for)하며, 짝수이면 2로 나눠주고, 홀수이면 1을 더하는 코드(if)\n",
    "aList = [1,3,4,5,6,8,10]\n",
    "for i in aList:\n",
    "    if i%2==0:\n",
    "        i/=2\n",
    "    else:\n",
    "        i+=1\n",
    "    print(i)"
   ]
  },
  {
   "cell_type": "markdown",
   "metadata": {},
   "source": [
    "- 튜플도 가능 but 수정불가 list보단 빠름\n",
    "- 딕셔너리: index를 지원하지 않는다. 기본적으로 key값을 참조, value를 하려면 dic.values()\n",
    "- enumerate(): list 안을 순서대로 열거 (index, num 순으로)(index값 사용 가능)"
   ]
  },
  {
   "cell_type": "code",
   "execution_count": 59,
   "metadata": {},
   "outputs": [
    {
     "name": "stdout",
     "output_type": "stream",
     "text": [
      "Naver: Buy 10\n",
      "Samsung: Buy 10\n",
      "SK Hynix: Buy 10\n"
     ]
    }
   ],
   "source": [
    "interest_stocks = ('Naver','Samsung','SK Hynix')\n",
    "for company in interest_stocks:\n",
    "    print('%s: Buy 10'%company)"
   ]
  },
  {
   "cell_type": "code",
   "execution_count": 5,
   "metadata": {},
   "outputs": [
    {
     "name": "stdout",
     "output_type": "stream",
     "text": [
      "Naver: Buy 10\n",
      "Samsung: Buy 5\n",
      "SK Hynix: Buy 30\n",
      "one spring\n",
      "two summer\n",
      "three autumn\n",
      "four winter\n",
      "one\n",
      "two\n",
      "three\n",
      "four\n",
      "spring\n",
      "summer\n",
      "autumn\n",
      "winter\n",
      "one spring\n",
      "two summer\n",
      "three autumn\n",
      "four winter\n"
     ]
    }
   ],
   "source": [
    "interest_stocks = {'Naver':10, 'Samsung':5, 'SK Hynix':30}\n",
    "for company in interest_stocks: # interest_stocks.keys()\n",
    "    print('%s: Buy %s'%(company, interest_stocks[company]))\n",
    "\n",
    "seasons={'one':'spring','two':'summer','three':'autumn','four':'winter'}\n",
    "for key in seasons:\n",
    "    print(key,seasons[key])\n",
    "    \n",
    "for k in seasons.keys():\n",
    "    print(k)\n",
    "    \n",
    "for k in seasons.values():\n",
    "    print(k)\n",
    "\n",
    "for i,j in seasons.items():\n",
    "    print(i,j)"
   ]
  },
  {
   "cell_type": "code",
   "execution_count": 8,
   "metadata": {},
   "outputs": [
    {
     "name": "stdout",
     "output_type": "stream",
     "text": [
      "index: 4 num: 10\n",
      "index: 5 num: 12\n",
      "index: 6 num: 14\n",
      "index: 7 num: 16\n",
      "index: 8 num: 18\n",
      "index: 9 num: 20\n"
     ]
    }
   ],
   "source": [
    "a=[2,4,6,8,10,12,14,16,18,20]\n",
    "for index, num in enumerate(a):\n",
    "    if index>3:\n",
    "        print('index:',index,'num:',num)"
   ]
  },
  {
   "cell_type": "markdown",
   "metadata": {},
   "source": [
    "### while: for과는 다르게 반복해야할 횟수가 정해진 것이 아니라 어떠한 조건이 주어졌을 때\n",
    "- +if문: 반복적인 작업을 수행하지만, 특정 조건일때는 다르게 처리하고자 할 때\n",
    "- break: 반복문을 벗어난다, continue: 특정 조건에서는 뒤의 코드를 건너뛰고 다시 while문 처음으로"
   ]
  },
  {
   "cell_type": "code",
   "execution_count": 10,
   "metadata": {},
   "outputs": [
    {
     "name": "stdout",
     "output_type": "stream",
     "text": [
      "0\n",
      "1\n",
      "2\n",
      "3\n",
      "4\n",
      "5\n",
      "6\n",
      "7\n",
      "8\n",
      "9\n",
      "10\n",
      "1\n",
      "3\n",
      "5\n",
      "7\n",
      "9\n"
     ]
    }
   ],
   "source": [
    "i=0\n",
    "while i<=10:\n",
    "    print(i)\n",
    "    i+=1\n",
    "num=0\n",
    "while num<=10:\n",
    "    if num%2==1:\n",
    "        print(num)\n",
    "    num+=1"
   ]
  },
  {
   "cell_type": "code",
   "execution_count": 11,
   "metadata": {},
   "outputs": [
    {
     "name": "stdout",
     "output_type": "stream",
     "text": [
      "0\n",
      "1\n",
      "2\n",
      "3\n",
      "4\n",
      "5\n",
      "6\n",
      "7\n",
      "8\n",
      "9\n",
      "10\n",
      "1\n",
      "2\n",
      "3\n",
      "4\n",
      "6\n",
      "7\n",
      "8\n",
      "9\n",
      "10\n"
     ]
    }
   ],
   "source": [
    "num=0\n",
    "while 1:\n",
    "    print(num)\n",
    "    if num == 10:\n",
    "        break\n",
    "    num+=1\n",
    "\n",
    "num=0\n",
    "while num<10:\n",
    "    num+=1\n",
    "    if num==5:\n",
    "        continue\n",
    "    print(num)"
   ]
  },
  {
   "cell_type": "code",
   "execution_count": 12,
   "metadata": {},
   "outputs": [
    {
     "name": "stdout",
     "output_type": "stream",
     "text": [
      "Newsapaper delivery: 101\n",
      "Newsapaper delivery: 102\n",
      "Newsapaper delivery: 103\n",
      "Newsapaper delivery: 104\n",
      "Newsapaper delivery: 201\n",
      "Newsapaper delivery: 202\n",
      "Newsapaper delivery: 203\n",
      "Newsapaper delivery: 204\n",
      "Newsapaper delivery: 301\n",
      "Newsapaper delivery: 302\n",
      "Newsapaper delivery: 303\n",
      "Newsapaper delivery: 304\n",
      "Newsapaper delivery: 401\n",
      "Newsapaper delivery: 402\n",
      "Newsapaper delivery: 403\n",
      "Newsapaper delivery: 404\n"
     ]
    }
   ],
   "source": [
    "# 중첩 루프\n",
    "apart=[[101,102,103,104],[201,202,203,204],[301,302,303,304],[401,402,403,404]]\n",
    "for floor in apart:\n",
    "    for room in floor:\n",
    "        print('Newsapaper delivery:',room)"
   ]
  },
  {
   "cell_type": "markdown",
   "metadata": {
    "colab_type": "text",
    "id": "_pTL8HmmjBEK"
   },
   "source": [
    "## 5. 함수\n",
    "- 함수 정의와 호출: 특정 기능을 수행하는 단위로 작성한다.\n",
    "- return 뒤에 뭐가 있다면 그 값을 반환하고 호출한 곳으로 복귀\n",
    "- return만 있으면 None을 반환함.\n",
    "- return도 없다: None으로 반환하고 복귀"
   ]
  },
  {
   "cell_type": "code",
   "execution_count": 15,
   "metadata": {
    "colab": {},
    "colab_type": "code",
    "id": "ipU3ysACjBEL",
    "outputId": "bc54e11d-87a7-45ea-feb8-c492b6e001e3"
   },
   "outputs": [
    {
     "name": "stdout",
     "output_type": "stream",
     "text": [
      "330\n"
     ]
    }
   ],
   "source": [
    "# 정의\n",
    "'''\n",
    "def functionName(parameter): # parameter: 함수에 전달되는 입력, 없을 수도, 있을 수도, 여러 개일수도 (호출시는 argument)\n",
    "    code\n",
    "'''\n",
    "# 호출\n",
    "'''\n",
    "functionName(parameter)\n",
    "'''\n",
    "def add(x,y): # 함수 정의\n",
    "    n=x+y\n",
    "    return n\n",
    "\n",
    "c=add(30,300) # 함수 호출: 호출을 해야 실행된다.\n",
    "print(c)"
   ]
  },
  {
   "cell_type": "code",
   "execution_count": 14,
   "metadata": {},
   "outputs": [
    {
     "name": "stdout",
     "output_type": "stream",
     "text": [
      "100 200 300\n",
      "(100, 200, 300) <class 'tuple'>\n",
      "[100, 200, 300] <class 'list'>\n"
     ]
    }
   ],
   "source": [
    "# 다중 리턴도 가능하다.\n",
    "def funcReturnTuple(x):\n",
    "    y1=10*x\n",
    "    y2=20*x\n",
    "    y3=30*x\n",
    "    return y1,y2,y3\n",
    "\n",
    "a1,a2,a3 = funcReturnTuple(10)\n",
    "print(a1,a2,a3)\n",
    "\n",
    "def funcReturnTuple(x):\n",
    "    y1=10*x\n",
    "    y2=20*x\n",
    "    y3=30*x\n",
    "    return (y1,y2,y3)\n",
    "\n",
    "aTuple = funcReturnTuple(10) # tuple의 형태로 받음\n",
    "print(aTuple,type(aTuple))\n",
    "\n",
    "def funcReturnList(x):\n",
    "    y1=10*x\n",
    "    y2=20*x\n",
    "    y3=30*x\n",
    "    return [y1,y2,y3]\n",
    "\n",
    "aList = funcReturnList(10) # list의 형태로 받음\n",
    "print(aList,type(aList))"
   ]
  },
  {
   "cell_type": "markdown",
   "metadata": {},
   "source": [
    "- variable scope: 변수의 범위, 함수의 변수는 자신이 속한 코드 블록 종료되면 소멸: 지역 변수\n",
    "- 종료될 때까지 유지되는 변수: 전역 변수\n",
    "- 지역 변수의 우선순위가 더 높음\n",
    "\n",
    "- built-in function: 이미 정의된 함수 ex) range(), sum(), len()\n",
    "- range(): [0,n-1]의 list, sum(): list나 tuple 입력받아서 합 반환, len(): 개수 반환"
   ]
  },
  {
   "cell_type": "code",
   "execution_count": 3,
   "metadata": {},
   "outputs": [
    {
     "name": "stdout",
     "output_type": "stream",
     "text": [
      "5\n",
      "15\n"
     ]
    }
   ],
   "source": [
    "a=[1,2,3,4,5]\n",
    "length=len(a)\n",
    "print(length)\n",
    "\n",
    "summation=sum(a)\n",
    "print(summation)"
   ]
  },
  {
   "cell_type": "markdown",
   "metadata": {},
   "source": [
    "- 가변 길이 parameter: parameter의 개수가 고정적이지 않을 때\n",
    "    -  *args: 파라미터를 튜플의 형태로 전달\n",
    "    - **kwargs: 파라미터를 딕셔너리 형태로 전달, 키워드 파라미터로 인식"
   ]
  },
  {
   "cell_type": "code",
   "execution_count": 5,
   "metadata": {},
   "outputs": [
    {
     "name": "stdout",
     "output_type": "stream",
     "text": [
      "('Kim',)\n",
      "('Kim', 'Lee')\n",
      "('Kim', 'Lee', 'Park')\n",
      "Kim\n",
      "Lee\n",
      "Park\n",
      "0 Kim\n",
      "1 Lee\n",
      "2 Park\n",
      "key: name value: nk\n",
      "first Kim\n",
      "second Lee\n",
      "third Park\n"
     ]
    }
   ],
   "source": [
    "def argsFunc(*args):\n",
    "    print(args)\n",
    "    \n",
    "argsFunc('Kim')\n",
    "argsFunc('Kim','Lee')\n",
    "argsFunc('Kim','Lee','Park') # 튜플로 넘어온다.\n",
    "\n",
    "def argsFunc(*args):\n",
    "    for para in args:\n",
    "        print(para)\n",
    "        \n",
    "argsFunc('Kim','Lee','Park')\n",
    "\n",
    "def argsFunc(*args):\n",
    "    for i,para in enumerate(args): # enumerate(): index, contents 순서임.\n",
    "        print(i,para)\n",
    "        \n",
    "argsFunc('Kim','Lee','Park')\n",
    "\n",
    "def test(**kwargs): #key word arguments\n",
    "    for key,value in kwargs.items():\n",
    "        print('key:',key,'value:',value)\n",
    "        \n",
    "test(name='nk') # key='value'로 인식\n",
    "\n",
    "def kwargsFunc(**kwargs):\n",
    "    for k,v in kwargs.items():\n",
    "        print(k,v)\n",
    "\n",
    "kwargsFunc(first='Kim',second='Lee',third='Park')"
   ]
  },
  {
   "cell_type": "markdown",
   "metadata": {},
   "source": [
    "- 중첩 함수: 함수 내부에 정의된 다른 함수  cf) 심화학습: 데코레이터, 클로저\n",
    "- default parameter(기본 인자): 기본값 지정, 지정 안할 때는 기본값, 다른 거 하고 싶으면 지정"
   ]
  },
  {
   "cell_type": "code",
   "execution_count": 6,
   "metadata": {},
   "outputs": [
    {
     "name": "stdout",
     "output_type": "stream",
     "text": [
      "in outer_func\n",
      "in inner_func\n",
      "1000\n"
     ]
    }
   ],
   "source": [
    "def outer_func(num): # 외부 함수 정의\n",
    "    def inner_func(num): # 내부 함수 정의\n",
    "        print('in inner_func')\n",
    "        print(num)\n",
    "    print('in outer_func')\n",
    "    inner_func(num*100) # 내부 함수 call\n",
    "\n",
    "outer_func(10) # 외부 함수 call: 들어가서 내부 함수 정의 -> 외부 print -> 내부함수 call -> 내부 print -> 내부 숫자 계산"
   ]
  },
  {
   "cell_type": "code",
   "execution_count": null,
   "metadata": {},
   "outputs": [],
   "source": [
    "def add(x, y=10, z=5):\n",
    "    a=x+y+z\n",
    "    return a\n",
    "\n",
    "print(add(10,1,2))\n",
    "print(add(10))\n",
    "# 주의: 일반 파라미터가 무조건 default parameter 앞에 나와야 함."
   ]
  },
  {
   "cell_type": "markdown",
   "metadata": {},
   "source": [
    "- print 함수의 default parameter: sep, end, file,...\n",
    "- syntax: print(object(s), separator, end, file, flush)"
   ]
  },
  {
   "cell_type": "code",
   "execution_count": null,
   "metadata": {},
   "outputs": [],
   "source": [
    "# 호출 과정 이해\n",
    "def cal_upper(price):\n",
    "    increment = price*0.3\n",
    "    upper_price = price+increment\n",
    "    return upper_price\n",
    "upper = cal_upper(10000)\n",
    "print(upper)"
   ]
  },
  {
   "cell_type": "markdown",
   "metadata": {},
   "source": [
    "- module: 다양한 기능들이 미리 함수로 구현되어서 module의 형태로 제공\n",
    "- 작성과 사용\n",
    "    - 모듈: 파이썬 정의와 문장들을 담고 있다.\n",
    "    - 파일 이름: (모듈명).py\n",
    "    - import 모듈명: 맨 앞에 놓는 게 관례 -> 시작할 때 뭐 쓰는지 파악하기 쉽다.\n",
    "    - from 모듈명 import 특정타입: 모듈에서 특정한 타입만 import"
   ]
  },
  {
   "cell_type": "code",
   "execution_count": 7,
   "metadata": {},
   "outputs": [
    {
     "name": "stdout",
     "output_type": "stream",
     "text": [
      "0 1 1 2 3 5 8 13 21 34 55 89 144 233 377 610 987 \n",
      "0 1 1 2 3 5 8 13 21 34 55 89 144 233 377 \n"
     ]
    },
    {
     "data": {
      "text/plain": [
       "[0, 1, 1, 2, 3, 5, 8, 13, 21, 34, 55, 89, 144, 233, 377]"
      ]
     },
     "execution_count": 7,
     "metadata": {},
     "output_type": "execute_result"
    }
   ],
   "source": [
    "# fiboo.py라는 파일 만들기: 피보나치 수열\n",
    "import fiboo\n",
    "fiboo.fib(1000)\n",
    "fiboo.fib2(100)\n",
    "fiboo.__name__\n",
    "fib=fiboo.fib\n",
    "fib(500)\n",
    "fib2=fiboo.fib2\n",
    "fib2(500)"
   ]
  },
  {
   "cell_type": "code",
   "execution_count": 0,
   "metadata": {
    "colab": {},
    "colab_type": "code",
    "id": "CCoi55MhjBEO",
    "outputId": "93724529-85ca-4eab-e2ab-9b4738d17777"
   },
   "outputs": [
    {
     "data": {
      "text/plain": [
       "['ArithmeticError',\n",
       " 'AssertionError',\n",
       " 'AttributeError',\n",
       " 'BaseException',\n",
       " 'BlockingIOError',\n",
       " 'BrokenPipeError',\n",
       " 'BufferError',\n",
       " 'BytesWarning',\n",
       " 'ChildProcessError',\n",
       " 'ConnectionAbortedError',\n",
       " 'ConnectionError',\n",
       " 'ConnectionRefusedError',\n",
       " 'ConnectionResetError',\n",
       " 'DeprecationWarning',\n",
       " 'EOFError',\n",
       " 'Ellipsis',\n",
       " 'EnvironmentError',\n",
       " 'Exception',\n",
       " 'False',\n",
       " 'FileExistsError',\n",
       " 'FileNotFoundError',\n",
       " 'FloatingPointError',\n",
       " 'FutureWarning',\n",
       " 'GeneratorExit',\n",
       " 'IOError',\n",
       " 'ImportError',\n",
       " 'ImportWarning',\n",
       " 'IndentationError',\n",
       " 'IndexError',\n",
       " 'InterruptedError',\n",
       " 'IsADirectoryError',\n",
       " 'KeyError',\n",
       " 'KeyboardInterrupt',\n",
       " 'LookupError',\n",
       " 'MemoryError',\n",
       " 'ModuleNotFoundError',\n",
       " 'NameError',\n",
       " 'None',\n",
       " 'NotADirectoryError',\n",
       " 'NotImplemented',\n",
       " 'NotImplementedError',\n",
       " 'OSError',\n",
       " 'OverflowError',\n",
       " 'PendingDeprecationWarning',\n",
       " 'PermissionError',\n",
       " 'ProcessLookupError',\n",
       " 'RecursionError',\n",
       " 'ReferenceError',\n",
       " 'ResourceWarning',\n",
       " 'RuntimeError',\n",
       " 'RuntimeWarning',\n",
       " 'StopAsyncIteration',\n",
       " 'StopIteration',\n",
       " 'SyntaxError',\n",
       " 'SyntaxWarning',\n",
       " 'SystemError',\n",
       " 'SystemExit',\n",
       " 'TabError',\n",
       " 'TimeoutError',\n",
       " 'True',\n",
       " 'TypeError',\n",
       " 'UnboundLocalError',\n",
       " 'UnicodeDecodeError',\n",
       " 'UnicodeEncodeError',\n",
       " 'UnicodeError',\n",
       " 'UnicodeTranslateError',\n",
       " 'UnicodeWarning',\n",
       " 'UserWarning',\n",
       " 'ValueError',\n",
       " 'Warning',\n",
       " 'WindowsError',\n",
       " 'ZeroDivisionError',\n",
       " '__IPYTHON__',\n",
       " '__build_class__',\n",
       " '__debug__',\n",
       " '__doc__',\n",
       " '__import__',\n",
       " '__loader__',\n",
       " '__name__',\n",
       " '__package__',\n",
       " '__spec__',\n",
       " 'abs',\n",
       " 'all',\n",
       " 'any',\n",
       " 'ascii',\n",
       " 'bin',\n",
       " 'bool',\n",
       " 'breakpoint',\n",
       " 'bytearray',\n",
       " 'bytes',\n",
       " 'callable',\n",
       " 'chr',\n",
       " 'classmethod',\n",
       " 'compile',\n",
       " 'complex',\n",
       " 'copyright',\n",
       " 'credits',\n",
       " 'delattr',\n",
       " 'dict',\n",
       " 'dir',\n",
       " 'display',\n",
       " 'divmod',\n",
       " 'enumerate',\n",
       " 'eval',\n",
       " 'exec',\n",
       " 'filter',\n",
       " 'float',\n",
       " 'format',\n",
       " 'frozenset',\n",
       " 'get_ipython',\n",
       " 'getattr',\n",
       " 'globals',\n",
       " 'hasattr',\n",
       " 'hash',\n",
       " 'help',\n",
       " 'hex',\n",
       " 'id',\n",
       " 'input',\n",
       " 'int',\n",
       " 'isinstance',\n",
       " 'issubclass',\n",
       " 'iter',\n",
       " 'len',\n",
       " 'license',\n",
       " 'list',\n",
       " 'locals',\n",
       " 'map',\n",
       " 'max',\n",
       " 'memoryview',\n",
       " 'min',\n",
       " 'next',\n",
       " 'object',\n",
       " 'oct',\n",
       " 'open',\n",
       " 'ord',\n",
       " 'pow',\n",
       " 'print',\n",
       " 'property',\n",
       " 'range',\n",
       " 'repr',\n",
       " 'reversed',\n",
       " 'round',\n",
       " 'set',\n",
       " 'setattr',\n",
       " 'slice',\n",
       " 'sorted',\n",
       " 'staticmethod',\n",
       " 'str',\n",
       " 'sum',\n",
       " 'super',\n",
       " 'tuple',\n",
       " 'type',\n",
       " 'vars',\n",
       " 'zip']"
      ]
     },
     "execution_count": 15,
     "metadata": {
      "tags": []
     },
     "output_type": "execute_result"
    }
   ],
   "source": [
    "# 내장 함수\n",
    "import builtins\n",
    "dir(builtins)"
   ]
  },
  {
   "cell_type": "code",
   "execution_count": 14,
   "metadata": {
    "colab": {},
    "colab_type": "code",
    "id": "lXjmaA0yjBER",
    "outputId": "c5f6ae8a-ecaf-497f-e477-a307713e6fe3"
   },
   "outputs": [
    {
     "name": "stdout",
     "output_type": "stream",
     "text": [
      "2020\n"
     ]
    }
   ],
   "source": [
    "# time 모듈\n",
    "import time\n",
    "time.time()\n",
    "time.ctime()\n",
    "type(_)\n",
    "cur_time = time.ctime()\n",
    "print(cur_time.split(' ')[-1])"
   ]
  },
  {
   "cell_type": "code",
   "execution_count": 15,
   "metadata": {
    "colab": {},
    "colab_type": "code",
    "id": "Q6RXnxrWjBEV",
    "outputId": "cb992989-5947-43bb-9ff2-9a3b76dcdb49"
   },
   "outputs": [
    {
     "name": "stdout",
     "output_type": "stream",
     "text": [
      "0\n",
      "1\n",
      "2\n",
      "3\n",
      "4\n",
      "5\n",
      "6\n",
      "7\n",
      "8\n",
      "9\n"
     ]
    }
   ],
   "source": [
    "# time.sleep(n): n초간 실행 멈춤\n",
    "for i in range(10):\n",
    "    print(i)\n",
    "    time.sleep(1)"
   ]
  },
  {
   "cell_type": "markdown",
   "metadata": {},
   "source": [
    "### Lambda 함수\n",
    "- 함수를 간단하게 생성자로 생성하는 방법을 표현\n",
    "- 함수의 이름을 지정하지 않음\n",
    "- 이름 없고, 저장된 변수가 없다 -> 다시 사용 못함(1회성)"
   ]
  },
  {
   "cell_type": "code",
   "execution_count": 18,
   "metadata": {
    "colab": {},
    "colab_type": "code",
    "id": "i8HKAWf8jBEb",
    "outputId": "9a27f190-cdc5-4cc3-d41b-031abc361bcc"
   },
   "outputs": [
    {
     "data": {
      "text/plain": [
       "5"
      ]
     },
     "execution_count": 18,
     "metadata": {},
     "output_type": "execute_result"
    }
   ],
   "source": [
    "func = lambda x:x+1\n",
    "func(4)"
   ]
  },
  {
   "cell_type": "code",
   "execution_count": 19,
   "metadata": {
    "colab": {},
    "colab_type": "code",
    "id": "HN0dzgF9jBEe",
    "outputId": "e3ebf953-a42b-42bc-cb55-4586268e1616"
   },
   "outputs": [
    {
     "data": {
      "text/plain": [
       "25"
      ]
     },
     "execution_count": 19,
     "metadata": {},
     "output_type": "execute_result"
    }
   ],
   "source": [
    "square = lambda x:x**2\n",
    "\n",
    "square(5)"
   ]
  },
  {
   "cell_type": "code",
   "execution_count": 20,
   "metadata": {
    "colab": {},
    "colab_type": "code",
    "id": "dGKCiSgpjBEj",
    "outputId": "d39ddbef-d237-4e60-8edf-f57c5c766458"
   },
   "outputs": [
    {
     "data": {
      "text/plain": [
       "11"
      ]
     },
     "execution_count": 20,
     "metadata": {},
     "output_type": "execute_result"
    }
   ],
   "source": [
    "add = lambda x,y:x+y\n",
    "\n",
    "add(4,7)"
   ]
  },
  {
   "cell_type": "code",
   "execution_count": 22,
   "metadata": {
    "colab": {},
    "colab_type": "code",
    "id": "P9nQ3SxrjBEm",
    "outputId": "28e7b668-18f6-4fce-f9de-05e353252daf"
   },
   "outputs": [
    {
     "name": "stdout",
     "output_type": "stream",
     "text": [
      "[' cat', ' dog', 'tiger', 'snake ']\n"
     ]
    },
    {
     "data": {
      "text/plain": [
       "[' cat', 'tiger', ' dog', 'snake ']"
      ]
     },
     "execution_count": 22,
     "metadata": {},
     "output_type": "execute_result"
    }
   ],
   "source": [
    "def my_key(string):\n",
    "    return len(string.strip()) # strip():공백과 \\n을 삭제해줌\n",
    "target = [' cat','tiger',' dog','snake ']\n",
    "print(sorted(target, key=my_key)) # key: sorted하는 기준으로 함수를 제공\n",
    "# sorted는 함수로서 새로운 리스트를 리턴시켜준다.(새로운 리스트가 생성), sort 메소드는 None으로 리턴 (원래 list를 변경)\n",
    "target"
   ]
  },
  {
   "cell_type": "code",
   "execution_count": 24,
   "metadata": {
    "colab": {},
    "colab_type": "code",
    "id": "iUdc1s9OjBEq",
    "outputId": "7469b725-7ba4-42c2-80c0-29d1e9d0b85e"
   },
   "outputs": [
    {
     "name": "stdout",
     "output_type": "stream",
     "text": [
      "['   cat', '     dog', 'tiger', ' snake']\n"
     ]
    }
   ],
   "source": [
    "target = ['   cat','tiger','     dog',' snake']\n",
    "print(sorted(target, key=lambda x:len(x.strip()))) # 한번 정렬만 할 것이므로 lambda 함수 사용"
   ]
  },
  {
   "cell_type": "code",
   "execution_count": 0,
   "metadata": {
    "colab": {},
    "colab_type": "code",
    "id": "ksbUWwg2jBEv",
    "outputId": "3d76ed4e-09b4-434c-9c83-933eb96d7836"
   },
   "outputs": [
    {
     "name": "stdout",
     "output_type": "stream",
     "text": [
      "[2, 6, 8, 10]\n",
      "[1, 4, 9, 36, 64, 81, 100, 121, 169, 225]\n",
      "120\n"
     ]
    },
    {
     "data": {
      "text/plain": [
       "120"
      ]
     },
     "execution_count": 44,
     "metadata": {
      "tags": []
     },
     "output_type": "execute_result"
    }
   ],
   "source": [
    "nums = [1,2,3,6,8,9,10,11,13,15]\n",
    "print(list(filter(lambda n:n%2==0,nums))) # 앞의 조건을 만족하는 것 외에 다 필터링, nums에서 가져온다.\n",
    "print(list(map(lambda n:n**2,nums))) # 앞의 식으로 변형 새로운 리스트 생성, nums에서 가져온다.\n",
    "# 둘 다 list() 빼면 안됨\n",
    "\n",
    "import functools\n",
    "a = [1,3,5,8]\n",
    "print(functools.reduce(lambda x,y:x*y,a)) # a라는 리스트를 사용하여, 왼쪽부터 두개씩 곱한다.(reduce)"
   ]
  }
 ],
 "metadata": {
  "colab": {
   "collapsed_sections": [],
   "name": "day6.ipynb",
   "provenance": []
  },
  "kernelspec": {
   "display_name": "Python 3",
   "language": "python",
   "name": "python3"
  },
  "language_info": {
   "codemirror_mode": {
    "name": "ipython",
    "version": 3
   },
   "file_extension": ".py",
   "mimetype": "text/x-python",
   "name": "python",
   "nbconvert_exporter": "python",
   "pygments_lexer": "ipython3",
   "version": "3.7.4"
  }
 },
 "nbformat": 4,
 "nbformat_minor": 1
}
